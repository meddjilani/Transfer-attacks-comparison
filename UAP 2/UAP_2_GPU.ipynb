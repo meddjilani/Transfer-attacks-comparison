{
  "nbformat": 4,
  "nbformat_minor": 0,
  "metadata": {
    "colab": {
      "provenance": []
    },
    "kernelspec": {
      "name": "python3",
      "display_name": "Python 3"
    },
    "language_info": {
      "name": "python"
    },
    "gpuClass": "standard",
    "accelerator": "GPU"
  },
  "cells": [
    {
      "cell_type": "code",
      "execution_count": null,
      "metadata": {
        "colab": {
          "base_uri": "https://localhost:8080/"
        },
        "id": "5pSOTp6RWSYj",
        "outputId": "d6a5a19e-47a2-4400-d572-d5f62c9d71ee"
      },
      "outputs": [
        {
          "output_type": "stream",
          "name": "stdout",
          "text": [
            "Looking in indexes: https://pypi.org/simple, https://us-python.pkg.dev/colab-wheels/public/simple/\n",
            "Collecting torchattacks\n",
            "  Downloading torchattacks-3.3.0-py3-none-any.whl (155 kB)\n",
            "\u001b[2K     \u001b[90m━━━━━━━━━━━━━━━━━━━━━━━━━━━━━━━━━━━━━━━\u001b[0m \u001b[32m155.9/155.9 KB\u001b[0m \u001b[31m1.7 MB/s\u001b[0m eta \u001b[36m0:00:00\u001b[0m\n",
            "\u001b[?25hInstalling collected packages: torchattacks\n",
            "Successfully installed torchattacks-3.3.0\n",
            "Looking in indexes: https://pypi.org/simple, https://us-python.pkg.dev/colab-wheels/public/simple/\n",
            "Collecting git+https://github.com/RobustBench/robustbench.git\n",
            "  Cloning https://github.com/RobustBench/robustbench.git to /tmp/pip-req-build-yz23tnj7\n",
            "  Running command git clone --filter=blob:none --quiet https://github.com/RobustBench/robustbench.git /tmp/pip-req-build-yz23tnj7\n",
            "  Resolved https://github.com/RobustBench/robustbench.git to commit a3b71ff2c3dbd9d2e1acdadec06f9395e00d9f43\n",
            "  Preparing metadata (setup.py) ... \u001b[?25l\u001b[?25hdone\n",
            "Collecting autoattack@ git+https://github.com/fra31/auto-attack.git@a39220048b3c9f2cca9a4d3a54604793c68eca7e#egg=autoattack\n",
            "  Cloning https://github.com/fra31/auto-attack.git (to revision a39220048b3c9f2cca9a4d3a54604793c68eca7e) to /tmp/pip-install-n4y73rqh/autoattack_9b8f53f43aea45fcbae1ac62ad638894\n",
            "  Running command git clone --filter=blob:none --quiet https://github.com/fra31/auto-attack.git /tmp/pip-install-n4y73rqh/autoattack_9b8f53f43aea45fcbae1ac62ad638894\n",
            "  Running command git rev-parse -q --verify 'sha^a39220048b3c9f2cca9a4d3a54604793c68eca7e'\n",
            "  Running command git fetch -q https://github.com/fra31/auto-attack.git a39220048b3c9f2cca9a4d3a54604793c68eca7e\n",
            "  Resolved https://github.com/fra31/auto-attack.git to commit a39220048b3c9f2cca9a4d3a54604793c68eca7e\n",
            "  Preparing metadata (setup.py) ... \u001b[?25l\u001b[?25hdone\n",
            "Requirement already satisfied: torch>=1.7.1 in /usr/local/lib/python3.9/dist-packages (from robustbench==1.1) (1.13.1+cu116)\n",
            "Requirement already satisfied: torchvision>=0.8.2 in /usr/local/lib/python3.9/dist-packages (from robustbench==1.1) (0.14.1+cu116)\n",
            "Collecting torchdiffeq\n",
            "  Downloading torchdiffeq-0.2.3-py3-none-any.whl (31 kB)\n",
            "Collecting geotorch\n",
            "  Downloading geotorch-0.3.0-py3-none-any.whl (54 kB)\n",
            "\u001b[2K     \u001b[90m━━━━━━━━━━━━━━━━━━━━━━━━━━━━━━━━━━━━━━━━\u001b[0m \u001b[32m54.8/54.8 KB\u001b[0m \u001b[31m7.8 MB/s\u001b[0m eta \u001b[36m0:00:00\u001b[0m\n",
            "\u001b[?25hRequirement already satisfied: requests~=2.25.0 in /usr/local/lib/python3.9/dist-packages (from robustbench==1.1) (2.25.1)\n",
            "Requirement already satisfied: numpy>=1.19.4 in /usr/local/lib/python3.9/dist-packages (from robustbench==1.1) (1.22.4)\n",
            "Requirement already satisfied: Jinja2~=3.1.2 in /usr/local/lib/python3.9/dist-packages (from robustbench==1.1) (3.1.2)\n",
            "Requirement already satisfied: tqdm>=4.56.1 in /usr/local/lib/python3.9/dist-packages (from robustbench==1.1) (4.65.0)\n",
            "Collecting pandas~=1.3.5\n",
            "  Downloading pandas-1.3.5-cp39-cp39-manylinux_2_17_x86_64.manylinux2014_x86_64.whl (11.5 MB)\n",
            "\u001b[2K     \u001b[90m━━━━━━━━━━━━━━━━━━━━━━━━━━━━━━━━━━━━━━━\u001b[0m \u001b[32m11.5/11.5 MB\u001b[0m \u001b[31m100.1 MB/s\u001b[0m eta \u001b[36m0:00:00\u001b[0m\n",
            "\u001b[?25hCollecting timm~=0.6.7\n",
            "  Downloading timm-0.6.12-py3-none-any.whl (549 kB)\n",
            "\u001b[2K     \u001b[90m━━━━━━━━━━━━━━━━━━━━━━━━━━━━━━━━━━━━━━\u001b[0m \u001b[32m549.1/549.1 KB\u001b[0m \u001b[31m49.4 MB/s\u001b[0m eta \u001b[36m0:00:00\u001b[0m\n",
            "\u001b[?25hRequirement already satisfied: MarkupSafe>=2.0 in /usr/local/lib/python3.9/dist-packages (from Jinja2~=3.1.2->robustbench==1.1) (2.1.2)\n",
            "Requirement already satisfied: pytz>=2017.3 in /usr/local/lib/python3.9/dist-packages (from pandas~=1.3.5->robustbench==1.1) (2022.7.1)\n",
            "Requirement already satisfied: python-dateutil>=2.7.3 in /usr/local/lib/python3.9/dist-packages (from pandas~=1.3.5->robustbench==1.1) (2.8.2)\n",
            "Requirement already satisfied: urllib3<1.27,>=1.21.1 in /usr/local/lib/python3.9/dist-packages (from requests~=2.25.0->robustbench==1.1) (1.26.14)\n",
            "Requirement already satisfied: certifi>=2017.4.17 in /usr/local/lib/python3.9/dist-packages (from requests~=2.25.0->robustbench==1.1) (2022.12.7)\n",
            "Requirement already satisfied: chardet<5,>=3.0.2 in /usr/local/lib/python3.9/dist-packages (from requests~=2.25.0->robustbench==1.1) (4.0.0)\n",
            "Requirement already satisfied: idna<3,>=2.5 in /usr/local/lib/python3.9/dist-packages (from requests~=2.25.0->robustbench==1.1) (2.10)\n",
            "Requirement already satisfied: pyyaml in /usr/local/lib/python3.9/dist-packages (from timm~=0.6.7->robustbench==1.1) (6.0)\n",
            "Collecting huggingface-hub\n",
            "  Downloading huggingface_hub-0.13.2-py3-none-any.whl (199 kB)\n",
            "\u001b[2K     \u001b[90m━━━━━━━━━━━━━━━━━━━━━━━━━━━━━━━━━━━━━━\u001b[0m \u001b[32m199.2/199.2 KB\u001b[0m \u001b[31m26.2 MB/s\u001b[0m eta \u001b[36m0:00:00\u001b[0m\n",
            "\u001b[?25hRequirement already satisfied: typing-extensions in /usr/local/lib/python3.9/dist-packages (from torch>=1.7.1->robustbench==1.1) (4.5.0)\n",
            "Requirement already satisfied: pillow!=8.3.*,>=5.3.0 in /usr/local/lib/python3.9/dist-packages (from torchvision>=0.8.2->robustbench==1.1) (8.4.0)\n",
            "Requirement already satisfied: scipy>=1.4.0 in /usr/local/lib/python3.9/dist-packages (from torchdiffeq->robustbench==1.1) (1.10.1)\n",
            "Requirement already satisfied: six>=1.5 in /usr/local/lib/python3.9/dist-packages (from python-dateutil>=2.7.3->pandas~=1.3.5->robustbench==1.1) (1.15.0)\n",
            "Requirement already satisfied: packaging>=20.9 in /usr/local/lib/python3.9/dist-packages (from huggingface-hub->timm~=0.6.7->robustbench==1.1) (23.0)\n",
            "Requirement already satisfied: filelock in /usr/local/lib/python3.9/dist-packages (from huggingface-hub->timm~=0.6.7->robustbench==1.1) (3.9.0)\n",
            "Building wheels for collected packages: robustbench, autoattack\n",
            "  Building wheel for robustbench (setup.py) ... \u001b[?25l\u001b[?25hdone\n",
            "  Created wheel for robustbench: filename=robustbench-1.1-py3-none-any.whl size=128027 sha256=86a53accdaeb108163fd78f6f65f0dfa06abfa55233eacefa99f899f8f127ce4\n",
            "  Stored in directory: /tmp/pip-ephem-wheel-cache-2hjqadst/wheels/98/2a/0f/a437e5748ae52c66bc5fa897e0b09118336526573ca2e74372\n",
            "  Building wheel for autoattack (setup.py) ... \u001b[?25l\u001b[?25hdone\n",
            "  Created wheel for autoattack: filename=autoattack-0.1-py3-none-any.whl size=36253 sha256=28edc5ed97f6f56f38f01fddd88ee4eef37f477eee325af90b353775136eadda\n",
            "  Stored in directory: /root/.cache/pip/wheels/0b/2b/aa/21cbc1eabf8471fe079f71d3cb8712be5aaf06b01bfe911529\n",
            "Successfully built robustbench autoattack\n",
            "Installing collected packages: autoattack, torchdiffeq, pandas, huggingface-hub, geotorch, timm, robustbench\n",
            "  Attempting uninstall: pandas\n",
            "    Found existing installation: pandas 1.4.4\n",
            "    Uninstalling pandas-1.4.4:\n",
            "      Successfully uninstalled pandas-1.4.4\n",
            "Successfully installed autoattack-0.1 geotorch-0.3.0 huggingface-hub-0.13.2 pandas-1.3.5 robustbench-1.1 timm-0.6.12 torchdiffeq-0.2.3\n"
          ]
        }
      ],
      "source": [
        "!pip install torchattacks\n",
        "!pip install git+https://github.com/RobustBench/robustbench.git"
      ]
    },
    {
      "cell_type": "code",
      "source": [
        "from google.colab import drive\n",
        "drive.mount('/content/drive')"
      ],
      "metadata": {
        "colab": {
          "base_uri": "https://localhost:8080/"
        },
        "id": "dqvGXtpsWWTu",
        "outputId": "cb06b4e2-d3be-4806-883f-22721cde6fdd"
      },
      "execution_count": null,
      "outputs": [
        {
          "output_type": "stream",
          "name": "stdout",
          "text": [
            "Mounted at /content/drive\n"
          ]
        }
      ]
    },
    {
      "cell_type": "code",
      "source": [
        "cd drive/MyDrive"
      ],
      "metadata": {
        "colab": {
          "base_uri": "https://localhost:8080/"
        },
        "id": "OCOatYiUWghz",
        "outputId": "71588e71-5173-4221-ce73-7df74112b6dd"
      },
      "execution_count": null,
      "outputs": [
        {
          "output_type": "stream",
          "name": "stdout",
          "text": [
            "/content/drive/MyDrive\n"
          ]
        }
      ]
    },
    {
      "cell_type": "code",
      "source": [
        "cd UAP 2/pytorch-gd-uap"
      ],
      "metadata": {
        "colab": {
          "base_uri": "https://localhost:8080/"
        },
        "id": "hEyKY87mWhuG",
        "outputId": "76324334-d1a2-406a-f21d-a5901df87b50"
      },
      "execution_count": null,
      "outputs": [
        {
          "output_type": "stream",
          "name": "stdout",
          "text": [
            "/content/drive/MyDrive/UAP 2/pytorch-gd-uap\n"
          ]
        }
      ]
    },
    {
      "cell_type": "code",
      "source": [
        "!python train.py"
      ],
      "metadata": {
        "colab": {
          "base_uri": "https://localhost:8080/"
        },
        "id": "MlClxV2-WuVh",
        "outputId": "24394248-8760-4fa7-c9a5-1a94ff6b4571"
      },
      "execution_count": null,
      "outputs": [
        {
          "output_type": "stream",
          "name": "stdout",
          "text": [
            "Initial norm: 0.039215538650751114\n",
            "Files already downloaded and verified\n",
            "Iter 0, Loss: -61.088523864746094\n",
            "Getting latest fooling rate...\n",
            "Latest fooling rate: 0.06\n",
            "Best fooling rate thus far: 0.06\n",
            "Getting latest fooling rate...\n",
            "Latest fooling rate: 0.06\n",
            "Getting latest fooling rate...\n",
            "Latest fooling rate: 0.06\n",
            "Getting latest fooling rate...\n",
            "Latest fooling rate: 0.06\n",
            "Iter 1000, Loss: -60.83509826660156\n",
            "Getting latest fooling rate...\n",
            "Latest fooling rate: 0.06\n",
            "Getting latest fooling rate...\n",
            "Latest fooling rate: 0.06\n",
            "Training complete.\n",
            "Last delta saved at: perturbations/None_vgg16_no_data_iter=201_val=voc2012_fr=60\n",
            "Last delta Iter: 1206, Loss: -60.83509826660156, Fooling rate: 0.06\n",
            "Files already downloaded and verified\n",
            "100% 10/10 [00:00<00:00, 18.80it/s]\n",
            "Final fooling rate on imagenet: 0.06\n"
          ]
        }
      ]
    }
  ]
}