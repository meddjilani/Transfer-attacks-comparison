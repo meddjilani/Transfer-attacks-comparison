{
 "cells": [
  {
   "cell_type": "code",
   "execution_count": null,
   "id": "ff0d2dc3",
   "metadata": {},
   "outputs": [],
   "source": [
    "import pandas as pd\n",
    "import numpy as np\n",
    "import matplotlib.pyplot as plt\n",
    "import timeit\n",
    "#!pip install torchattacks\n",
    "import torchattacks\n",
    "import torch\n",
    "from torchvision import io"
   ]
  },
  {
   "cell_type": "code",
   "execution_count": null,
   "id": "de0b99b2",
   "metadata": {},
   "outputs": [],
   "source": [
    "#!pip install git+https://github.com/RobustBench/robustbench.git\n",
    "import robustbench\n",
    "from robustbench.utils import load_model,clean_accuracy\n",
    "from robustbench.data import load_cifar10"
   ]
  },
  {
   "cell_type": "markdown",
   "id": "ed01d27b",
   "metadata": {},
   "source": [
    "# Load models and data"
   ]
  },
  {
   "cell_type": "code",
   "execution_count": null,
   "id": "b863a4b9",
   "metadata": {},
   "outputs": [],
   "source": [
    "import os\n",
    "#os.chdir('D:\\\\PFE black\\\\3.Robustbench and torchattacks')\n",
    "os.getcwd()"
   ]
  },
  {
   "cell_type": "code",
   "execution_count": null,
   "id": "a060f8f1",
   "metadata": {},
   "outputs": [],
   "source": [
    "from cifar10_models.resnet import resnet50\n",
    "my_model = resnet50(pretrained=True)\n",
    "my_model.eval() "
   ]
  },
  {
   "cell_type": "code",
   "execution_count": null,
   "id": "d8b75544",
   "metadata": {},
   "outputs": [],
   "source": [
    "images_png = [name for name in os.listdir(\"D:\\\\PFE black\\\\4. Skip gradient method cifar10\\\\skip-connections-matter\\\\adv_images_cifar10\") if os.path.splitext(name)[-1] == '.png']\n",
    "images_png = [int(v.split(\".\")[0][1:]) for v in images_png]\n",
    "images_png.sort()\n",
    "images_png = [\"n\"+str(v)+\".png.png\"for v in images_png]"
   ]
  },
  {
   "cell_type": "code",
   "execution_count": null,
   "id": "ff244aeb",
   "metadata": {},
   "outputs": [],
   "source": [
    "n_images = len(images_png)\n",
    "adv_images_SGM = torch.zeros(n_images, 3, 32, 32, dtype=torch.uint8)\n",
    "\n",
    "for i, image_png in enumerate(images_png):\n",
    "    adv_images_SGM[i] = io.read_image(os.path.join(\"D:\\\\PFE black\\\\4. Skip gradient method cifar10\\\\skip-connections-matter\\\\adv_images_cifar10\", image_png))\n",
    "    \n",
    "#make sure to change type of tensor to float and normalize between 0 and 1\n",
    "adv_images_SGM = adv_images_SGM.float() / 255"
   ]
  },
  {
   "cell_type": "code",
   "execution_count": null,
   "id": "b553b4f8",
   "metadata": {},
   "outputs": [],
   "source": [
    "from torchvision import transforms\n",
    "preprocess = transforms.Compose([\n",
    "    transforms.Normalize(mean = [0.4914, 0.4822, 0.4465], std = [0.2471, 0.2435, 0.2616])\n",
    "])\n",
    "adv_images_SGM = preprocess(adv_images_SGM)\n",
    "plt.imshow(adv_images_SGM[0,:,:,:].permute(1, 2, 0) )"
   ]
  },
  {
   "cell_type": "code",
   "execution_count": null,
   "id": "94b66878",
   "metadata": {},
   "outputs": [],
   "source": [
    "dict_y_test = np.load(\"cifar10_image_to_label.npy\", allow_pickle = True)[()]\n",
    "y_test = torch.Tensor(list(dict_y_test.values()))\n",
    "y_test = y_test.type(torch.LongTensor)\n",
    "y_test"
   ]
  },
  {
   "cell_type": "code",
   "execution_count": null,
   "id": "c7a4422c",
   "metadata": {},
   "outputs": [],
   "source": [
    "model_rank1 = load_model(model_name='Rebuffi2021Fixing_70_16_cutmix_extra', dataset='cifar10', threat_model='Linf')"
   ]
  },
  {
   "cell_type": "code",
   "execution_count": null,
   "id": "e8ad6443",
   "metadata": {},
   "outputs": [],
   "source": [
    "model_rank2 = load_model(model_name='Gowal2021Improving_70_16_ddpm_100m', dataset='cifar10', threat_model='Linf')"
   ]
  },
  {
   "cell_type": "code",
   "execution_count": null,
   "id": "351cea01",
   "metadata": {},
   "outputs": [],
   "source": [
    "model_rank3 = load_model(model_name='Gowal2020Uncovering_70_16_extra', dataset='cifar10', threat_model='Linf')"
   ]
  },
  {
   "cell_type": "code",
   "execution_count": null,
   "id": "9087caa8",
   "metadata": {},
   "outputs": [],
   "source": [
    "model_rank4 = load_model(model_name='Rebuffi2021Fixing_106_16_cutmix_ddpm', dataset='cifar10', threat_model='Linf')"
   ]
  },
  {
   "cell_type": "code",
   "execution_count": null,
   "id": "a8d83f47",
   "metadata": {},
   "outputs": [],
   "source": [
    "model_rank5 = load_model(model_name='Rebuffi2021Fixing_70_16_cutmix_ddpm', dataset='cifar10', threat_model='Linf')"
   ]
  },
  {
   "cell_type": "code",
   "execution_count": null,
   "id": "0bd2e2d7",
   "metadata": {},
   "outputs": [],
   "source": [
    "model_vanilla = load_model(model_name='Standard', dataset='cifar10', threat_model='Linf')"
   ]
  },
  {
   "cell_type": "markdown",
   "id": "d4b94341",
   "metadata": {},
   "source": [
    "# torchattacks"
   ]
  },
  {
   "cell_type": "markdown",
   "id": "1d569be7",
   "metadata": {},
   "source": [
    "### SGM"
   ]
  },
  {
   "cell_type": "code",
   "execution_count": null,
   "id": "866805c3",
   "metadata": {},
   "outputs": [],
   "source": [
    "SGM_results = []"
   ]
  },
  {
   "cell_type": "code",
   "execution_count": null,
   "id": "d7c7d40a",
   "metadata": {},
   "outputs": [],
   "source": []
  },
  {
   "cell_type": "code",
   "execution_count": null,
   "id": "b8e8ab53",
   "metadata": {},
   "outputs": [],
   "source": [
    "acc = clean_accuracy(model_rank1, adv_images_SGM, y_test)\n",
    "print('Robust Acc rank1: %2.2f %%'%(acc*100))\n",
    "SGM_results.append(acc)"
   ]
  },
  {
   "cell_type": "code",
   "execution_count": null,
   "id": "65287edb",
   "metadata": {},
   "outputs": [],
   "source": [
    "acc = clean_accuracy(model_rank2, adv_images_SGM, y_test)\n",
    "print('Robust Acc rank2: %2.2f %%'%(acc*100))\n",
    "SGM_results.append(acc)"
   ]
  },
  {
   "cell_type": "code",
   "execution_count": null,
   "id": "84f6c708",
   "metadata": {},
   "outputs": [],
   "source": [
    "acc = clean_accuracy(model_rank3, adv_images_SGM, y_test)\n",
    "print('Robust Acc rank3: %2.2f %%'%(acc*100))\n",
    "SGM_results.append(acc)"
   ]
  },
  {
   "cell_type": "code",
   "execution_count": null,
   "id": "008d22f8",
   "metadata": {},
   "outputs": [],
   "source": [
    "acc = clean_accuracy(model_rank4, adv_images_SGM, y_test)\n",
    "print('Robust Acc rank4: %2.2f %%'%(acc*100))\n",
    "SGM_results.append(acc)"
   ]
  },
  {
   "cell_type": "code",
   "execution_count": null,
   "id": "5f3d402e",
   "metadata": {},
   "outputs": [],
   "source": [
    "acc = clean_accuracy(model_rank5, adv_images_SGM, y_test)\n",
    "print('Robust Acc rank5: %2.2f %%'%(acc*100))\n",
    "SGM_results.append(acc)"
   ]
  },
  {
   "cell_type": "code",
   "execution_count": null,
   "id": "72d49198",
   "metadata": {},
   "outputs": [],
   "source": [
    "acc = clean_accuracy(model_vanilla, adv_images_SGM, y_test)\n",
    "print('Robust Acc vanilla: %2.2f %%'%(acc*100))\n",
    "SGM_results.append(acc)"
   ]
  },
  {
   "cell_type": "code",
   "execution_count": null,
   "id": "27b0fbf0",
   "metadata": {},
   "outputs": [],
   "source": [
    "SGM_results"
   ]
  }
 ],
 "metadata": {
  "kernelspec": {
   "display_name": "Python 3 (ipykernel)",
   "language": "python",
   "name": "python3"
  },
  "language_info": {
   "codemirror_mode": {
    "name": "ipython",
    "version": 3
   },
   "file_extension": ".py",
   "mimetype": "text/x-python",
   "name": "python",
   "nbconvert_exporter": "python",
   "pygments_lexer": "ipython3",
   "version": "3.7.4"
  }
 },
 "nbformat": 4,
 "nbformat_minor": 5
}
