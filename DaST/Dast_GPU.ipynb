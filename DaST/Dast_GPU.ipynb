{
  "nbformat": 4,
  "nbformat_minor": 0,
  "metadata": {
    "colab": {
      "provenance": []
    },
    "kernelspec": {
      "name": "python3",
      "display_name": "Python 3"
    },
    "language_info": {
      "name": "python"
    },
    "gpuClass": "standard"
  },
  "cells": [
    {
      "cell_type": "code",
      "execution_count": null,
      "metadata": {
        "colab": {
          "base_uri": "https://localhost:8080/"
        },
        "id": "zT-s_HKAL0NJ",
        "outputId": "8a49b989-69af-47cd-924b-33537d5edf47"
      },
      "outputs": [
        {
          "output_type": "stream",
          "name": "stdout",
          "text": [
            "Mounted at /content/drive\n"
          ]
        }
      ],
      "source": [
        "from google.colab import drive\n",
        "drive.mount('/content/drive')"
      ]
    },
    {
      "cell_type": "code",
      "source": [
        "cd drive/MyDrive"
      ],
      "metadata": {
        "colab": {
          "base_uri": "https://localhost:8080/"
        },
        "id": "kWa2T4TdL4_n",
        "outputId": "a1143a1b-ec06-4303-9bb5-591eb5c005a7"
      },
      "execution_count": null,
      "outputs": [
        {
          "output_type": "stream",
          "name": "stdout",
          "text": [
            "/content/drive/MyDrive\n"
          ]
        }
      ]
    },
    {
      "cell_type": "code",
      "source": [
        "cd DaST"
      ],
      "metadata": {
        "colab": {
          "base_uri": "https://localhost:8080/"
        },
        "id": "WBUpD2JgL6g7",
        "outputId": "db7009bf-7f87-4f6c-cf87-94a4ee35434f"
      },
      "execution_count": null,
      "outputs": [
        {
          "output_type": "stream",
          "name": "stdout",
          "text": [
            "/content/drive/MyDrive/DaST\n"
          ]
        }
      ]
    },
    {
      "cell_type": "code",
      "source": [
        "!ls"
      ],
      "metadata": {
        "colab": {
          "base_uri": "https://localhost:8080/"
        },
        "id": "wh8moMffMEGs",
        "outputId": "4e2de6bc-e8b2-4396-dee4-3d0a4eb126b4"
      },
      "execution_count": null,
      "outputs": [
        {
          "output_type": "stream",
          "name": "stdout",
          "text": [
            "'cifar10 data'\t\t\t\t evaluation.py\n",
            " config_ids_source_targets.json\t\t models\n",
            " dast_cifar10.log\t\t\t net.py\n",
            " dast_cifar10.py\t\t\t __pycache__\n",
            " dast_cifar10_resnet50_carmon_gstep.py\t README.md\n",
            " dast_cifar10_resnet50_standard.py\t resnet.py\n",
            " dast_cifar10_vgg_standard.py\t\t saved_model\n",
            " dast.py\t\t\t\t test_dast.py\n",
            " data\t\t\t\t\t vgg.py\n"
          ]
        }
      ]
    },
    {
      "cell_type": "code",
      "source": [
        "!pip install foolbox\n",
        "!pip install git+https://github.com/RobustBench/robustbench.git"
      ],
      "metadata": {
        "colab": {
          "base_uri": "https://localhost:8080/"
        },
        "id": "hSi6Xha7PHi7",
        "outputId": "97ac04f5-ac29-4dc7-f68c-cd1a0877e04c"
      },
      "execution_count": null,
      "outputs": [
        {
          "output_type": "stream",
          "name": "stdout",
          "text": [
            "Looking in indexes: https://pypi.org/simple, https://us-python.pkg.dev/colab-wheels/public/simple/\n",
            "Collecting foolbox\n",
            "  Downloading foolbox-3.3.3-py3-none-any.whl (1.7 MB)\n",
            "\u001b[2K     \u001b[90m━━━━━━━━━━━━━━━━━━━━━━━━━━━━━━━━━━━━━━━━\u001b[0m \u001b[32m1.7/1.7 MB\u001b[0m \u001b[31m67.6 MB/s\u001b[0m eta \u001b[36m0:00:00\u001b[0m\n",
            "\u001b[?25hCollecting GitPython>=3.0.7\n",
            "  Downloading GitPython-3.1.30-py3-none-any.whl (184 kB)\n",
            "\u001b[2K     \u001b[90m━━━━━━━━━━━━━━━━━━━━━━━━━━━━━━━━━━━━━━\u001b[0m \u001b[32m184.0/184.0 KB\u001b[0m \u001b[31m23.9 MB/s\u001b[0m eta \u001b[36m0:00:00\u001b[0m\n",
            "\u001b[?25hRequirement already satisfied: numpy in /usr/local/lib/python3.8/dist-packages (from foolbox) (1.21.6)\n",
            "Requirement already satisfied: scipy in /usr/local/lib/python3.8/dist-packages (from foolbox) (1.7.3)\n",
            "Collecting eagerpy>=0.30.0\n",
            "  Downloading eagerpy-0.30.0-py3-none-any.whl (31 kB)\n",
            "Requirement already satisfied: typing-extensions>=3.7.4.1 in /usr/local/lib/python3.8/dist-packages (from foolbox) (4.4.0)\n",
            "Requirement already satisfied: setuptools in /usr/local/lib/python3.8/dist-packages (from foolbox) (57.4.0)\n",
            "Requirement already satisfied: requests>=2.24.0 in /usr/local/lib/python3.8/dist-packages (from foolbox) (2.25.1)\n",
            "Collecting gitdb<5,>=4.0.1\n",
            "  Downloading gitdb-4.0.10-py3-none-any.whl (62 kB)\n",
            "\u001b[2K     \u001b[90m━━━━━━━━━━━━━━━━━━━━━━━━━━━━━━━━━━━━━━━━\u001b[0m \u001b[32m62.7/62.7 KB\u001b[0m \u001b[31m8.3 MB/s\u001b[0m eta \u001b[36m0:00:00\u001b[0m\n",
            "\u001b[?25hRequirement already satisfied: certifi>=2017.4.17 in /usr/local/lib/python3.8/dist-packages (from requests>=2.24.0->foolbox) (2022.12.7)\n",
            "Requirement already satisfied: idna<3,>=2.5 in /usr/local/lib/python3.8/dist-packages (from requests>=2.24.0->foolbox) (2.10)\n",
            "Requirement already satisfied: chardet<5,>=3.0.2 in /usr/local/lib/python3.8/dist-packages (from requests>=2.24.0->foolbox) (4.0.0)\n",
            "Requirement already satisfied: urllib3<1.27,>=1.21.1 in /usr/local/lib/python3.8/dist-packages (from requests>=2.24.0->foolbox) (1.24.3)\n",
            "Collecting smmap<6,>=3.0.1\n",
            "  Downloading smmap-5.0.0-py3-none-any.whl (24 kB)\n",
            "Installing collected packages: smmap, eagerpy, gitdb, GitPython, foolbox\n",
            "Successfully installed GitPython-3.1.30 eagerpy-0.30.0 foolbox-3.3.3 gitdb-4.0.10 smmap-5.0.0\n",
            "Looking in indexes: https://pypi.org/simple, https://us-python.pkg.dev/colab-wheels/public/simple/\n",
            "Collecting git+https://github.com/RobustBench/robustbench.git\n",
            "  Cloning https://github.com/RobustBench/robustbench.git to /tmp/pip-req-build-yhp8lo74\n",
            "  Running command git clone --filter=blob:none --quiet https://github.com/RobustBench/robustbench.git /tmp/pip-req-build-yhp8lo74\n",
            "  Resolved https://github.com/RobustBench/robustbench.git to commit 2d630bc9e8d1cf50d46a4dda65fd36850e3ef769\n",
            "  Preparing metadata (setup.py) ... \u001b[?25l\u001b[?25hdone\n",
            "Collecting autoattack@ git+https://github.com/fra31/auto-attack.git@a39220048b3c9f2cca9a4d3a54604793c68eca7e#egg=autoattack\n",
            "  Cloning https://github.com/fra31/auto-attack.git (to revision a39220048b3c9f2cca9a4d3a54604793c68eca7e) to /tmp/pip-install-ax6h94br/autoattack_71df9769371b4e76a434623d86fbc971\n",
            "  Running command git clone --filter=blob:none --quiet https://github.com/fra31/auto-attack.git /tmp/pip-install-ax6h94br/autoattack_71df9769371b4e76a434623d86fbc971\n",
            "  Running command git rev-parse -q --verify 'sha^a39220048b3c9f2cca9a4d3a54604793c68eca7e'\n",
            "  Running command git fetch -q https://github.com/fra31/auto-attack.git a39220048b3c9f2cca9a4d3a54604793c68eca7e\n",
            "  Resolved https://github.com/fra31/auto-attack.git to commit a39220048b3c9f2cca9a4d3a54604793c68eca7e\n",
            "  Preparing metadata (setup.py) ... \u001b[?25l\u001b[?25hdone\n",
            "Requirement already satisfied: torch>=1.7.1 in /usr/local/lib/python3.8/dist-packages (from robustbench==1.1) (1.13.1+cu116)\n",
            "Requirement already satisfied: torchvision>=0.8.2 in /usr/local/lib/python3.8/dist-packages (from robustbench==1.1) (0.14.1+cu116)\n",
            "Collecting torchdiffeq\n",
            "  Downloading torchdiffeq-0.2.3-py3-none-any.whl (31 kB)\n",
            "Collecting geotorch\n",
            "  Downloading geotorch-0.3.0-py3-none-any.whl (54 kB)\n",
            "\u001b[2K     \u001b[90m━━━━━━━━━━━━━━━━━━━━━━━━━━━━━━━━━━━━━━━━\u001b[0m \u001b[32m54.8/54.8 KB\u001b[0m \u001b[31m7.4 MB/s\u001b[0m eta \u001b[36m0:00:00\u001b[0m\n",
            "\u001b[?25hRequirement already satisfied: requests~=2.25.0 in /usr/local/lib/python3.8/dist-packages (from robustbench==1.1) (2.25.1)\n",
            "Requirement already satisfied: numpy>=1.19.4 in /usr/local/lib/python3.8/dist-packages (from robustbench==1.1) (1.21.6)\n",
            "Collecting Jinja2~=3.1.2\n",
            "  Downloading Jinja2-3.1.2-py3-none-any.whl (133 kB)\n",
            "\u001b[2K     \u001b[90m━━━━━━━━━━━━━━━━━━━━━━━━━━━━━━━━━━━━━━\u001b[0m \u001b[32m133.1/133.1 KB\u001b[0m \u001b[31m18.5 MB/s\u001b[0m eta \u001b[36m0:00:00\u001b[0m\n",
            "\u001b[?25hRequirement already satisfied: tqdm>=4.56.1 in /usr/local/lib/python3.8/dist-packages (from robustbench==1.1) (4.64.1)\n",
            "Requirement already satisfied: pandas~=1.3.5 in /usr/local/lib/python3.8/dist-packages (from robustbench==1.1) (1.3.5)\n",
            "Collecting timm~=0.6.7\n",
            "  Downloading timm-0.6.12-py3-none-any.whl (549 kB)\n",
            "\u001b[2K     \u001b[90m━━━━━━━━━━━━━━━━━━━━━━━━━━━━━━━━━━━━━━\u001b[0m \u001b[32m549.1/549.1 KB\u001b[0m \u001b[31m47.7 MB/s\u001b[0m eta \u001b[36m0:00:00\u001b[0m\n",
            "\u001b[?25hRequirement already satisfied: MarkupSafe>=2.0 in /usr/local/lib/python3.8/dist-packages (from Jinja2~=3.1.2->robustbench==1.1) (2.0.1)\n",
            "Requirement already satisfied: python-dateutil>=2.7.3 in /usr/local/lib/python3.8/dist-packages (from pandas~=1.3.5->robustbench==1.1) (2.8.2)\n",
            "Requirement already satisfied: pytz>=2017.3 in /usr/local/lib/python3.8/dist-packages (from pandas~=1.3.5->robustbench==1.1) (2022.7.1)\n",
            "Requirement already satisfied: certifi>=2017.4.17 in /usr/local/lib/python3.8/dist-packages (from requests~=2.25.0->robustbench==1.1) (2022.12.7)\n",
            "Requirement already satisfied: idna<3,>=2.5 in /usr/local/lib/python3.8/dist-packages (from requests~=2.25.0->robustbench==1.1) (2.10)\n",
            "Requirement already satisfied: chardet<5,>=3.0.2 in /usr/local/lib/python3.8/dist-packages (from requests~=2.25.0->robustbench==1.1) (4.0.0)\n",
            "Requirement already satisfied: urllib3<1.27,>=1.21.1 in /usr/local/lib/python3.8/dist-packages (from requests~=2.25.0->robustbench==1.1) (1.24.3)\n",
            "Requirement already satisfied: pyyaml in /usr/local/lib/python3.8/dist-packages (from timm~=0.6.7->robustbench==1.1) (6.0)\n",
            "Collecting huggingface-hub\n",
            "  Downloading huggingface_hub-0.12.0-py3-none-any.whl (190 kB)\n",
            "\u001b[2K     \u001b[90m━━━━━━━━━━━━━━━━━━━━━━━━━━━━━━━━━━━━━━\u001b[0m \u001b[32m190.3/190.3 KB\u001b[0m \u001b[31m25.2 MB/s\u001b[0m eta \u001b[36m0:00:00\u001b[0m\n",
            "\u001b[?25hRequirement already satisfied: typing-extensions in /usr/local/lib/python3.8/dist-packages (from torch>=1.7.1->robustbench==1.1) (4.4.0)\n",
            "Requirement already satisfied: pillow!=8.3.*,>=5.3.0 in /usr/local/lib/python3.8/dist-packages (from torchvision>=0.8.2->robustbench==1.1) (7.1.2)\n",
            "Requirement already satisfied: scipy>=1.4.0 in /usr/local/lib/python3.8/dist-packages (from torchdiffeq->robustbench==1.1) (1.7.3)\n",
            "Requirement already satisfied: six>=1.5 in /usr/local/lib/python3.8/dist-packages (from python-dateutil>=2.7.3->pandas~=1.3.5->robustbench==1.1) (1.15.0)\n",
            "Requirement already satisfied: packaging>=20.9 in /usr/local/lib/python3.8/dist-packages (from huggingface-hub->timm~=0.6.7->robustbench==1.1) (23.0)\n",
            "Requirement already satisfied: filelock in /usr/local/lib/python3.8/dist-packages (from huggingface-hub->timm~=0.6.7->robustbench==1.1) (3.9.0)\n",
            "Building wheels for collected packages: robustbench, autoattack\n",
            "  Building wheel for robustbench (setup.py) ... \u001b[?25l\u001b[?25hdone\n",
            "  Created wheel for robustbench: filename=robustbench-1.1-py3-none-any.whl size=125243 sha256=e563b31aaa3e8709edd3862bbcf3ad0a86b5b9f6cf453930a1e5dcf8ebf6dfbd\n",
            "  Stored in directory: /tmp/pip-ephem-wheel-cache-wwn__g8i/wheels/e5/5c/71/a9555d31a3141e03f892261999879434dbad4fc514d0905a7f\n",
            "  Building wheel for autoattack (setup.py) ... \u001b[?25l\u001b[?25hdone\n",
            "  Created wheel for autoattack: filename=autoattack-0.1-py3-none-any.whl size=36253 sha256=9a69566622bcb0c725170099e1c731639cfa31dd77d3d5773d6d512ac6fd5d2c\n",
            "  Stored in directory: /root/.cache/pip/wheels/15/0d/31/035660eb03978a4f9178fe03be02e1bc77b8b1eaab41977b69\n",
            "Successfully built robustbench autoattack\n",
            "Installing collected packages: autoattack, Jinja2, torchdiffeq, huggingface-hub, geotorch, timm, robustbench\n",
            "  Attempting uninstall: Jinja2\n",
            "    Found existing installation: Jinja2 2.11.3\n",
            "    Uninstalling Jinja2-2.11.3:\n",
            "      Successfully uninstalled Jinja2-2.11.3\n",
            "\u001b[31mERROR: pip's dependency resolver does not currently take into account all the packages that are installed. This behaviour is the source of the following dependency conflicts.\n",
            "notebook 5.7.16 requires jinja2<=3.0.0, but you have jinja2 3.1.2 which is incompatible.\n",
            "flask 1.1.4 requires Jinja2<3.0,>=2.10.1, but you have jinja2 3.1.2 which is incompatible.\u001b[0m\u001b[31m\n",
            "\u001b[0mSuccessfully installed Jinja2-3.1.2 autoattack-0.1 geotorch-0.3.0 huggingface-hub-0.12.0 robustbench-1.1 timm-0.6.12 torchdiffeq-0.2.3\n"
          ]
        }
      ]
    },
    {
      "cell_type": "code",
      "source": [
        "!python dast_cifar10_resnet50_standard.py"
      ],
      "metadata": {
        "colab": {
          "base_uri": "https://localhost:8080/"
        },
        "id": "oEZ6pHqqME4t",
        "outputId": "2452e75a-aa01-422b-8a62-14ab33355a7f"
      },
      "execution_count": null,
      "outputs": [
        {
          "output_type": "stream",
          "name": "stdout",
          "text": [
            "Namespace(G_type=1, alpha=0.2, batchSize=500, beta=0.1, beta1=0.5, cuda=True, dataset='cifar10', lr=0.0001, niter=20, save_folder='saved_model', workers=2)\n",
            "Files already downloaded and verified\n",
            "cuda\n",
            "originalnet parm True\n",
            "Files already downloaded and verified\n",
            "original net accuracy: 100.00 %\n",
            "inputs and labels True True\n",
            "original_net True\n",
            "Attack success rate: 7.00 %\n",
            "l2 distance:  1.4988 \n",
            "Attack success rate: 7.00 %\n",
            "-------------------train D-----------------\n",
            "[0/20][0/500] D: 2.0133 D_prob: 0.0723 loss_imitate: 0.3156 loss_diversity: 1.1489\n",
            "current opt.alpha:  0.2\n",
            "[0/20][20/500] D: 0.6364 D_prob: 0.0295 loss_imitate: 0.7131 loss_diversity: 0.3370\n",
            "current opt.alpha:  0.2\n",
            "[0/20][40/500] D: 0.6037 D_prob: 0.0293 loss_imitate: 0.7345 loss_diversity: 0.3074\n",
            "current opt.alpha:  0.2\n",
            "[0/20][60/500] D: 0.5989 D_prob: 0.0273 loss_imitate: 0.7313 loss_diversity: 0.3120\n",
            "current opt.alpha:  0.2\n",
            "[0/20][80/500] D: 0.5566 D_prob: 0.0263 loss_imitate: 0.7365 loss_diversity: 0.3047\n",
            "current opt.alpha:  0.2\n",
            "[0/20][100/500] D: 0.6488 D_prob: 0.0296 loss_imitate: 0.7057 loss_diversity: 0.3473\n",
            "current opt.alpha:  0.2\n",
            "[0/20][120/500] D: 0.5877 D_prob: 0.0282 loss_imitate: 0.7227 loss_diversity: 0.3235\n",
            "current opt.alpha:  0.2\n",
            "[0/20][140/500] D: 0.6048 D_prob: 0.0282 loss_imitate: 0.7144 loss_diversity: 0.3351\n",
            "current opt.alpha:  0.2\n",
            "[0/20][160/500] D: 0.5848 D_prob: 0.0270 loss_imitate: 0.7206 loss_diversity: 0.3265\n",
            "current opt.alpha:  0.2\n",
            "[0/20][180/500] D: 0.5026 D_prob: 0.0231 loss_imitate: 0.7575 loss_diversity: 0.2767\n",
            "current opt.alpha:  0.2\n",
            "[0/20][200/500] D: 0.5848 D_prob: 0.0283 loss_imitate: 0.7111 loss_diversity: 0.3398\n",
            "current opt.alpha:  0.2\n",
            "[0/20][220/500] D: 0.5748 D_prob: 0.0280 loss_imitate: 0.7147 loss_diversity: 0.3346\n",
            "current opt.alpha:  0.2\n",
            "[0/20][240/500] D: 0.5800 D_prob: 0.0267 loss_imitate: 0.7053 loss_diversity: 0.3478\n",
            "current opt.alpha:  0.2\n",
            "[0/20][260/500] D: 0.5872 D_prob: 0.0276 loss_imitate: 0.7016 loss_diversity: 0.3530\n",
            "current opt.alpha:  0.2\n",
            "[0/20][280/500] D: 0.5967 D_prob: 0.0268 loss_imitate: 0.6973 loss_diversity: 0.3592\n",
            "current opt.alpha:  0.2\n",
            "[0/20][300/500] D: 0.5878 D_prob: 0.0264 loss_imitate: 0.6988 loss_diversity: 0.3570\n",
            "current opt.alpha:  0.2\n",
            "[0/20][320/500] D: 0.5456 D_prob: 0.0246 loss_imitate: 0.7101 loss_diversity: 0.3410\n",
            "current opt.alpha:  0.2\n",
            "[0/20][340/500] D: 0.5655 D_prob: 0.0259 loss_imitate: 0.7004 loss_diversity: 0.3548\n",
            "current opt.alpha:  0.2\n",
            "[0/20][360/500] D: 0.5525 D_prob: 0.0271 loss_imitate: 0.7104 loss_diversity: 0.3405\n",
            "current opt.alpha:  0.2\n",
            "[0/20][380/500] D: 0.5826 D_prob: 0.0284 loss_imitate: 0.6855 loss_diversity: 0.3761\n",
            "current opt.alpha:  0.2\n",
            "[0/20][400/500] D: 0.5566 D_prob: 0.0255 loss_imitate: 0.7023 loss_diversity: 0.3521\n",
            "current opt.alpha:  0.2\n",
            "[0/20][420/500] D: 0.5870 D_prob: 0.0289 loss_imitate: 0.6903 loss_diversity: 0.3691\n",
            "current opt.alpha:  0.2\n",
            "[0/20][440/500] D: 0.5855 D_prob: 0.0271 loss_imitate: 0.6765 loss_diversity: 0.3893\n",
            "current opt.alpha:  0.2\n",
            "[0/20][460/500] D: 0.6035 D_prob: 0.0300 loss_imitate: 0.6626 loss_diversity: 0.4098\n",
            "current opt.alpha:  0.2\n",
            "[0/20][480/500] D: 0.5759 D_prob: 0.0288 loss_imitate: 0.6807 loss_diversity: 0.3830\n",
            "current opt.alpha:  0.2\n",
            "inputs and labels True True\n",
            "original_net True\n",
            "Attack success rate: 1.00 %\n",
            "l2 distance:  0.9380 \n",
            "Attack success rate: 1.00 %\n",
            "model saved\n",
            "substitute accuracy: 17.00 %\n",
            "model saved\n",
            "-------------------train D-----------------\n",
            "[1/20][0/500] D: 0.5543 D_prob: 0.0263 loss_imitate: 0.6870 loss_diversity: 0.3738\n",
            "current opt.alpha:  0.2\n",
            "[1/20][20/500] D: 0.5510 D_prob: 0.0266 loss_imitate: 0.6859 loss_diversity: 0.3755\n",
            "current opt.alpha:  0.2\n",
            "[1/20][40/500] D: 0.5886 D_prob: 0.0280 loss_imitate: 0.6721 loss_diversity: 0.3957\n",
            "current opt.alpha:  0.2\n",
            "[1/20][60/500] D: 0.5774 D_prob: 0.0268 loss_imitate: 0.6753 loss_diversity: 0.3912\n",
            "current opt.alpha:  0.2\n",
            "[1/20][80/500] D: 0.5951 D_prob: 0.0267 loss_imitate: 0.6672 loss_diversity: 0.4032\n",
            "current opt.alpha:  0.2\n",
            "[1/20][100/500] D: 0.6145 D_prob: 0.0295 loss_imitate: 0.6423 loss_diversity: 0.4408\n",
            "current opt.alpha:  0.2\n",
            "[1/20][120/500] D: 0.6143 D_prob: 0.0282 loss_imitate: 0.6515 loss_diversity: 0.4268\n",
            "current opt.alpha:  0.2\n",
            "[1/20][140/500] D: 0.5213 D_prob: 0.0246 loss_imitate: 0.6882 loss_diversity: 0.3721\n",
            "current opt.alpha:  0.2\n",
            "[1/20][160/500] D: 0.5504 D_prob: 0.0264 loss_imitate: 0.6768 loss_diversity: 0.3888\n",
            "current opt.alpha:  0.2\n",
            "[1/20][180/500] D: 0.5557 D_prob: 0.0257 loss_imitate: 0.6715 loss_diversity: 0.3965\n",
            "current opt.alpha:  0.2\n",
            "[1/20][200/500] D: 0.5744 D_prob: 0.0263 loss_imitate: 0.6594 loss_diversity: 0.4147\n",
            "current opt.alpha:  0.2\n",
            "[1/20][220/500] D: 0.6055 D_prob: 0.0285 loss_imitate: 0.6437 loss_diversity: 0.4387\n",
            "current opt.alpha:  0.2\n",
            "[1/20][240/500] D: 0.6120 D_prob: 0.0278 loss_imitate: 0.6435 loss_diversity: 0.4392\n",
            "current opt.alpha:  0.2\n",
            "[1/20][260/500] D: 0.5998 D_prob: 0.0288 loss_imitate: 0.6510 loss_diversity: 0.4274\n",
            "current opt.alpha:  0.2\n",
            "[1/20][280/500] D: 0.5643 D_prob: 0.0279 loss_imitate: 0.6627 loss_diversity: 0.4097\n",
            "current opt.alpha:  0.2\n",
            "[1/20][300/500] D: 0.5254 D_prob: 0.0239 loss_imitate: 0.6864 loss_diversity: 0.3747\n",
            "current opt.alpha:  0.2\n",
            "[1/20][320/500] D: 0.5770 D_prob: 0.0263 loss_imitate: 0.6531 loss_diversity: 0.4243\n",
            "current opt.alpha:  0.2\n",
            "[1/20][340/500] D: 0.5768 D_prob: 0.0283 loss_imitate: 0.6579 loss_diversity: 0.4169\n",
            "current opt.alpha:  0.2\n",
            "[1/20][360/500] D: 0.5779 D_prob: 0.0267 loss_imitate: 0.6510 loss_diversity: 0.4273\n",
            "current opt.alpha:  0.2\n",
            "[1/20][380/500] D: 0.5363 D_prob: 0.0256 loss_imitate: 0.6688 loss_diversity: 0.4005\n",
            "current opt.alpha:  0.2\n",
            "[1/20][400/500] D: 0.5690 D_prob: 0.0280 loss_imitate: 0.6516 loss_diversity: 0.4265\n",
            "current opt.alpha:  0.2\n",
            "[1/20][420/500] D: 0.5647 D_prob: 0.0271 loss_imitate: 0.6558 loss_diversity: 0.4200\n",
            "current opt.alpha:  0.2\n",
            "[1/20][440/500] D: 0.5933 D_prob: 0.0275 loss_imitate: 0.6425 loss_diversity: 0.4406\n",
            "current opt.alpha:  0.2\n",
            "[1/20][460/500] D: 0.5985 D_prob: 0.0261 loss_imitate: 0.6360 loss_diversity: 0.4509\n",
            "current opt.alpha:  0.2\n",
            "[1/20][480/500] D: 0.5499 D_prob: 0.0262 loss_imitate: 0.6564 loss_diversity: 0.4191\n",
            "current opt.alpha:  0.2\n",
            "inputs and labels True True\n",
            "original_net True\n",
            "Attack success rate: 2.00 %\n",
            "l2 distance:  1.0819 \n",
            "Attack success rate: 2.00 %\n",
            "model saved\n",
            "substitute accuracy: 17.00 %\n",
            "Best ACC: 17.00 %\n",
            "-------------------train D-----------------\n",
            "[2/20][0/500] D: 0.5719 D_prob: 0.0281 loss_imitate: 0.6443 loss_diversity: 0.4378\n",
            "current opt.alpha:  0.2\n",
            "[2/20][20/500] D: 0.5790 D_prob: 0.0273 loss_imitate: 0.6475 loss_diversity: 0.4327\n",
            "current opt.alpha:  0.2\n",
            "[2/20][40/500] D: 0.5546 D_prob: 0.0265 loss_imitate: 0.6525 loss_diversity: 0.4250\n",
            "current opt.alpha:  0.2\n",
            "[2/20][60/500] D: 0.5643 D_prob: 0.0275 loss_imitate: 0.6486 loss_diversity: 0.4310\n",
            "current opt.alpha:  0.2\n",
            "[2/20][80/500] D: 0.5811 D_prob: 0.0273 loss_imitate: 0.6452 loss_diversity: 0.4363\n",
            "current opt.alpha:  0.2\n",
            "Traceback (most recent call last):\n",
            "  File \"dast_cifar10_resnet50_standard.py\", line 511, in <module>\n",
            "    label = torch.full((noise_chunk[i].size(0),), i).to(device)\n",
            "KeyboardInterrupt\n",
            "^C\n"
          ]
        }
      ]
    }
  ]
}