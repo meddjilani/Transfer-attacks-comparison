{
 "cells": [
  {
   "cell_type": "markdown",
   "metadata": {},
   "source": [
    "## CIFAR-10 UAP - Evaluation\n",
    "We show examples of the following:\n",
    "1. Evaluation on clean datasets (train, test)\n",
    "2. Evaluation with chess noise pattern\n",
    "3. Loading and evaluation on pre-computed UAP"
   ]
  },
  {
   "cell_type": "code",
   "execution_count": 12,
   "metadata": {},
   "outputs": [],
   "source": [
    "import matplotlib.pyplot as plt\n",
    "import numpy as np\n",
    "import os\n",
    "import sys\n",
    "import torch\n",
    "\n",
    "sys.path.append(os.path.realpath('..'))\n",
    "\n",
    "from utils import loader_cifar, model_cifar, evaluate\n",
    "\n",
    "# dir_data = '/data/cifar10'\n",
    "dir_uap = '../uaps/cifar10/'\n",
    "\n",
    "# testloader = loader_cifar(dir_data = dir_data, train = False)\n",
    "# trainloader = loader_cifar(dir_data = dir_data, train = True)"
   ]
  },
  {
   "cell_type": "code",
   "execution_count": 13,
   "metadata": {},
   "outputs": [],
   "source": [
    "# input_tensor = None\n",
    "# label_tensor = None\n",
    "\n",
    "# for batch in testloader:\n",
    "#     # extract the inputs and labels from the batch\n",
    "#     inputs, labels = batch\n",
    "\n",
    "#     # concatenate the inputs and labels into a single tensor\n",
    "#     if input_tensor is None:\n",
    "#         input_tensor = inputs\n",
    "#         label_tensor = labels\n",
    "#     else:\n",
    "#         input_tensor = torch.cat((input_tensor, inputs))\n",
    "#         label_tensor = torch.cat((label_tensor, labels))"
   ]
  },
  {
   "cell_type": "code",
   "execution_count": 14,
   "metadata": {},
   "outputs": [
    {
     "name": "stdout",
     "output_type": "stream",
     "text": [
      "Files already downloaded and verified\n"
     ]
    }
   ],
   "source": [
    "from robustbench.data import load_cifar10\n",
    "import json\n",
    "\n",
    "x_test, y_test = load_cifar10()\n",
    "\n",
    "with open('config_ids_source_targets.json','r') as f:\n",
    "    config = json.load(f)\n",
    "    \n",
    "ids = config['ids']\n",
    "x_test_correct , y_test_correct = x_test[ids,:,:,:] , y_test[ids]"
   ]
  },
  {
   "cell_type": "code",
   "execution_count": 23,
   "metadata": {},
   "outputs": [],
   "source": [
    "from torch.utils.data import Dataset, DataLoader\n",
    "\n",
    "\n",
    "class MyDataset(Dataset):\n",
    "    def __init__(self, inputs, labels):\n",
    "        self.inputs = inputs\n",
    "        self.labels = labels\n",
    "\n",
    "    def __len__(self):\n",
    "        return len(self.inputs)\n",
    "\n",
    "    def __getitem__(self, idx):\n",
    "        input_example = self.inputs[idx]\n",
    "        label_example = self.labels[idx]\n",
    "        return input_example, label_example\n",
    "\n",
    "my_dataset = MyDataset(x_test_correct, y_test_correct)\n",
    "\n",
    "batch_size = 10\n",
    "#num_workers = 4\n",
    "test_loader = DataLoader(my_dataset, batch_size=batch_size, shuffle=True)"
   ]
  },
  {
   "cell_type": "markdown",
   "metadata": {},
   "source": [
    "## 1. Clean"
   ]
  },
  {
   "cell_type": "code",
   "execution_count": 7,
   "metadata": {},
   "outputs": [],
   "source": [
    "from robustbench.utils import load_model, clean_accuracy\n",
    "model = load_model(model_name='Carmon2019Unlabeled', dataset='cifar10', threat_model='Linf')\n",
    "# best_acc = clean_accuracy(model, input_tensor, label_tensor)\n",
    "# print(best_acc)"
   ]
  },
  {
   "cell_type": "code",
   "execution_count": 33,
   "metadata": {},
   "outputs": [
    {
     "name": "stdout",
     "output_type": "stream",
     "text": [
      "1.0\n"
     ]
    }
   ],
   "source": [
    "#accuracy should be equal to 1\n",
    "test_acc = clean_accuracy(model, x_test_correct, y_test_correct)\n",
    "print(test_acc)"
   ]
  },
  {
   "cell_type": "code",
   "execution_count": 17,
   "metadata": {},
   "outputs": [],
   "source": [
    "# load model\n",
    "# model, best_acc = model_cifar('resnet18', ckpt_path = '../resnet18.pth')\n",
    "# print(best_acc)"
   ]
  },
  {
   "cell_type": "code",
   "execution_count": 10,
   "metadata": {},
   "outputs": [],
   "source": [
    "# _, _, _, _, outputs, labels = evaluate(model, testloader, uap = None)\n",
    "# print('Test accuracy:', sum(outputs == labels) / len(labels))"
   ]
  },
  {
   "cell_type": "markdown",
   "metadata": {},
   "source": [
    "## 2. Chessboard pattern"
   ]
  },
  {
   "cell_type": "code",
   "execution_count": 19,
   "metadata": {},
   "outputs": [
    {
     "data": {
      "text/plain": [
       "tensor([[[-1.,  1., -1.,  ...,  1., -1.,  1.],\n",
       "         [ 1., -1.,  1.,  ..., -1.,  1., -1.],\n",
       "         [-1.,  1., -1.,  ...,  1., -1.,  1.],\n",
       "         ...,\n",
       "         [ 1., -1.,  1.,  ..., -1.,  1., -1.],\n",
       "         [-1.,  1., -1.,  ...,  1., -1.,  1.],\n",
       "         [ 1., -1.,  1.,  ..., -1.,  1., -1.]],\n",
       "\n",
       "        [[-1.,  1., -1.,  ...,  1., -1.,  1.],\n",
       "         [ 1., -1.,  1.,  ..., -1.,  1., -1.],\n",
       "         [-1.,  1., -1.,  ...,  1., -1.,  1.],\n",
       "         ...,\n",
       "         [ 1., -1.,  1.,  ..., -1.,  1., -1.],\n",
       "         [-1.,  1., -1.,  ...,  1., -1.,  1.],\n",
       "         [ 1., -1.,  1.,  ..., -1.,  1., -1.]],\n",
       "\n",
       "        [[-1.,  1., -1.,  ...,  1., -1.,  1.],\n",
       "         [ 1., -1.,  1.,  ..., -1.,  1., -1.],\n",
       "         [-1.,  1., -1.,  ...,  1., -1.,  1.],\n",
       "         ...,\n",
       "         [ 1., -1.,  1.,  ..., -1.,  1., -1.],\n",
       "         [-1.,  1., -1.,  ...,  1., -1.,  1.],\n",
       "         [ 1., -1.,  1.,  ..., -1.,  1., -1.]]])"
      ]
     },
     "execution_count": 19,
     "metadata": {},
     "output_type": "execute_result"
    }
   ],
   "source": [
    "# load pattern\n",
    "uap = torch.load(dir_uap + 'chess.pth')\n",
    "uap.to('cpu')"
   ]
  },
  {
   "cell_type": "code",
   "execution_count": 21,
   "metadata": {},
   "outputs": [
    {
     "name": "stderr",
     "output_type": "stream",
     "text": [
      "Clipping input data to the valid range for imshow with RGB data ([0..1] for floats or [0..255] for integers).\n"
     ]
    },
    {
     "data": {
      "text/plain": [
       "<matplotlib.image.AxesImage at 0x1b06ab05308>"
      ]
     },
     "execution_count": 21,
     "metadata": {},
     "output_type": "execute_result"
    },
    {
     "data": {
      "image/png": "[encoded data removed]",
      "text/plain": [
       "<Figure size 640x480 with 1 Axes>"
      ]
     },
     "metadata": {},
     "output_type": "display_data"
    }
   ],
   "source": [
    "# visualize chessboard\n",
    "plt.imshow(np.transpose(uap, (1, 2, 0)))"
   ]
  },
  {
   "cell_type": "code",
   "execution_count": 25,
   "metadata": {},
   "outputs": [
    {
     "name": "stdout",
     "output_type": "stream",
     "text": [
      "Robust accuracy: 1.0\n"
     ]
    }
   ],
   "source": [
    "# evaluate\n",
    "eps = 8 / 255\n",
    "_, _, _, _, outputs, labels = evaluate(model, test_loader, uap = uap * eps)\n",
    "print('Robust accuracy:', sum(outputs == labels) / len(labels))"
   ]
  },
  {
   "cell_type": "code",
   "execution_count": 26,
   "metadata": {},
   "outputs": [
    {
     "data": {
      "text/plain": [
       "(array([10.,  8.,  7.,  9.,  7.,  6., 18., 12., 13., 10.]),\n",
       " array([0. , 0.9, 1.8, 2.7, 3.6, 4.5, 5.4, 6.3, 7.2, 8.1, 9. ]),\n",
       " <BarContainer object of 10 artists>)"
      ]
     },
     "execution_count": 26,
     "metadata": {},
     "output_type": "execute_result"
    },
    {
     "data": {
      "image/png": "[encoded data removed]",
      "text/plain": [
       "<Figure size 640x480 with 1 Axes>"
      ]
     },
     "metadata": {},
     "output_type": "display_data"
    }
   ],
   "source": [
    "plt.title('Clean test set distribution')\n",
    "plt.hist(labels)"
   ]
  },
  {
   "cell_type": "code",
   "execution_count": 27,
   "metadata": {},
   "outputs": [
    {
     "data": {
      "text/plain": [
       "(array([10.,  8.,  7.,  9.,  7.,  6., 18., 12., 13., 10.]),\n",
       " array([0. , 0.9, 1.8, 2.7, 3.6, 4.5, 5.4, 6.3, 7.2, 8.1, 9. ]),\n",
       " <BarContainer object of 10 artists>)"
      ]
     },
     "execution_count": 27,
     "metadata": {},
     "output_type": "execute_result"
    },
    {
     "data": {
      "image/png": "[encoded data removed]",
      "text/plain": [
       "<Figure size 640x480 with 1 Axes>"
      ]
     },
     "metadata": {},
     "output_type": "display_data"
    }
   ],
   "source": [
    "# plot histogram\n",
    "plt.title('Chessboard test set distribution')\n",
    "plt.hist(outputs)"
   ]
  },
  {
   "cell_type": "markdown",
   "metadata": {},
   "source": [
    "## 3. Pre-computed UAP"
   ]
  },
  {
   "cell_type": "code",
   "execution_count": 28,
   "metadata": {},
   "outputs": [],
   "source": [
    "# load UAP targeting class 4 with eps = 10\n",
    "y_target = 4\n",
    "eps = 10\n",
    "uap = torch.load(dir_uap + 'sgd-tgt%i-eps%i.pth' % (y_target, eps))"
   ]
  },
  {
   "cell_type": "code",
   "execution_count": 29,
   "metadata": {},
   "outputs": [
    {
     "data": {
      "text/plain": [
       "<matplotlib.image.AxesImage at 0x1b06ac1b148>"
      ]
     },
     "execution_count": 29,
     "metadata": {},
     "output_type": "execute_result"
    },
    {
     "data": {
      "image/png": "[encoded data removed]",
      "text/plain": [
       "<Figure size 640x480 with 1 Axes>"
      ]
     },
     "metadata": {},
     "output_type": "display_data"
    }
   ],
   "source": [
    "# visualize UAP\n",
    "uap_max = torch.max(uap)\n",
    "plt.imshow(np.transpose(((uap / uap_max) + 1) / 2, (1, 2, 0)))"
   ]
  },
  {
   "cell_type": "code",
   "execution_count": 31,
   "metadata": {},
   "outputs": [
    {
     "name": "stdout",
     "output_type": "stream",
     "text": [
      "Robust accuracy: 1.0\n",
      "Targeted success rate: 0.07\n"
     ]
    }
   ],
   "source": [
    "# evaluate\n",
    "_, _, _, _, outputs, labels = evaluate(model, test_loader, uap = uap)\n",
    "print('Robust accuracy:', sum(outputs == labels) / len(labels))\n",
    "print('Targeted success rate:', sum(outputs == y_target) / len(labels))"
   ]
  },
  {
   "cell_type": "code",
   "execution_count": 32,
   "metadata": {},
   "outputs": [
    {
     "data": {
      "text/plain": [
       "(array([10.,  8.,  7.,  9.,  7.,  6., 18., 12., 13., 10.]),\n",
       " array([0. , 0.9, 1.8, 2.7, 3.6, 4.5, 5.4, 6.3, 7.2, 8.1, 9. ]),\n",
       " <BarContainer object of 10 artists>)"
      ]
     },
     "execution_count": 32,
     "metadata": {},
     "output_type": "execute_result"
    },
    {
     "data": {
      "image/png": "[encoded data removed]",
      "text/plain": [
       "<Figure size 640x480 with 1 Axes>"
      ]
     },
     "metadata": {},
     "output_type": "display_data"
    }
   ],
   "source": [
    "# plot histogram\n",
    "plt.title('UAP test set distribution')\n",
    "plt.hist(outputs)"
   ]
  },
  {
   "cell_type": "code",
   "execution_count": null,
   "metadata": {},
   "outputs": [],
   "source": []
  }
 ],
 "metadata": {
  "kernelspec": {
   "display_name": "Python 3 (ipykernel)",
   "language": "python",
   "name": "python3"
  },
  "language_info": {
   "codemirror_mode": {
    "name": "ipython",
    "version": 3
   },
   "file_extension": ".py",
   "mimetype": "text/x-python",
   "name": "python",
   "nbconvert_exporter": "python",
   "pygments_lexer": "ipython3",
   "version": "3.7.4"
  }
 },
 "nbformat": 4,
 "nbformat_minor": 4
}
