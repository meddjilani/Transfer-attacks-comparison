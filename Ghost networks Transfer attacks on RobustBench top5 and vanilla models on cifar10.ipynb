{
 "cells": [
  {
   "cell_type": "code",
   "execution_count": 1,
   "id": "e97b1860",
   "metadata": {},
   "outputs": [],
   "source": [
    "import numpy as np\n",
    "import torch\n",
    "import matplotlib.pyplot as plt\n",
    "from ghost_cifar10_models.ghost_resnet import resnet50"
   ]
  },
  {
   "cell_type": "code",
   "execution_count": 2,
   "id": "33c87299",
   "metadata": {},
   "outputs": [
    {
     "data": {
      "text/plain": [
       "ResNet(\n",
       "  (conv1): Conv2d(3, 64, kernel_size=(3, 3), stride=(1, 1), padding=(1, 1), bias=False)\n",
       "  (bn1): BatchNorm2d(64, eps=1e-05, momentum=0.1, affine=True, track_running_stats=True)\n",
       "  (relu): ReLU(inplace=True)\n",
       "  (maxpool): MaxPool2d(kernel_size=3, stride=2, padding=1, dilation=1, ceil_mode=False)\n",
       "  (layer1): Sequential(\n",
       "    (0): Bottleneck(\n",
       "      (conv1): Conv2d(64, 64, kernel_size=(1, 1), stride=(1, 1), bias=False)\n",
       "      (bn1): BatchNorm2d(64, eps=1e-05, momentum=0.1, affine=True, track_running_stats=True)\n",
       "      (conv2): Conv2d(64, 64, kernel_size=(3, 3), stride=(1, 1), padding=(1, 1), bias=False)\n",
       "      (bn2): BatchNorm2d(64, eps=1e-05, momentum=0.1, affine=True, track_running_stats=True)\n",
       "      (conv3): Conv2d(64, 256, kernel_size=(1, 1), stride=(1, 1), bias=False)\n",
       "      (bn3): BatchNorm2d(256, eps=1e-05, momentum=0.1, affine=True, track_running_stats=True)\n",
       "      (relu): ReLU(inplace=True)\n",
       "      (downsample): Sequential(\n",
       "        (0): Conv2d(64, 256, kernel_size=(1, 1), stride=(1, 1), bias=False)\n",
       "        (1): BatchNorm2d(256, eps=1e-05, momentum=0.1, affine=True, track_running_stats=True)\n",
       "      )\n",
       "    )\n",
       "    (1): Bottleneck(\n",
       "      (conv1): Conv2d(256, 64, kernel_size=(1, 1), stride=(1, 1), bias=False)\n",
       "      (bn1): BatchNorm2d(64, eps=1e-05, momentum=0.1, affine=True, track_running_stats=True)\n",
       "      (conv2): Conv2d(64, 64, kernel_size=(3, 3), stride=(1, 1), padding=(1, 1), bias=False)\n",
       "      (bn2): BatchNorm2d(64, eps=1e-05, momentum=0.1, affine=True, track_running_stats=True)\n",
       "      (conv3): Conv2d(64, 256, kernel_size=(1, 1), stride=(1, 1), bias=False)\n",
       "      (bn3): BatchNorm2d(256, eps=1e-05, momentum=0.1, affine=True, track_running_stats=True)\n",
       "      (relu): ReLU(inplace=True)\n",
       "    )\n",
       "    (2): Bottleneck(\n",
       "      (conv1): Conv2d(256, 64, kernel_size=(1, 1), stride=(1, 1), bias=False)\n",
       "      (bn1): BatchNorm2d(64, eps=1e-05, momentum=0.1, affine=True, track_running_stats=True)\n",
       "      (conv2): Conv2d(64, 64, kernel_size=(3, 3), stride=(1, 1), padding=(1, 1), bias=False)\n",
       "      (bn2): BatchNorm2d(64, eps=1e-05, momentum=0.1, affine=True, track_running_stats=True)\n",
       "      (conv3): Conv2d(64, 256, kernel_size=(1, 1), stride=(1, 1), bias=False)\n",
       "      (bn3): BatchNorm2d(256, eps=1e-05, momentum=0.1, affine=True, track_running_stats=True)\n",
       "      (relu): ReLU(inplace=True)\n",
       "    )\n",
       "  )\n",
       "  (layer2): Sequential(\n",
       "    (0): Bottleneck(\n",
       "      (conv1): Conv2d(256, 128, kernel_size=(1, 1), stride=(1, 1), bias=False)\n",
       "      (bn1): BatchNorm2d(128, eps=1e-05, momentum=0.1, affine=True, track_running_stats=True)\n",
       "      (conv2): Conv2d(128, 128, kernel_size=(3, 3), stride=(2, 2), padding=(1, 1), bias=False)\n",
       "      (bn2): BatchNorm2d(128, eps=1e-05, momentum=0.1, affine=True, track_running_stats=True)\n",
       "      (conv3): Conv2d(128, 512, kernel_size=(1, 1), stride=(1, 1), bias=False)\n",
       "      (bn3): BatchNorm2d(512, eps=1e-05, momentum=0.1, affine=True, track_running_stats=True)\n",
       "      (relu): ReLU(inplace=True)\n",
       "      (downsample): Sequential(\n",
       "        (0): Conv2d(256, 512, kernel_size=(1, 1), stride=(2, 2), bias=False)\n",
       "        (1): BatchNorm2d(512, eps=1e-05, momentum=0.1, affine=True, track_running_stats=True)\n",
       "      )\n",
       "    )\n",
       "    (1): Bottleneck(\n",
       "      (conv1): Conv2d(512, 128, kernel_size=(1, 1), stride=(1, 1), bias=False)\n",
       "      (bn1): BatchNorm2d(128, eps=1e-05, momentum=0.1, affine=True, track_running_stats=True)\n",
       "      (conv2): Conv2d(128, 128, kernel_size=(3, 3), stride=(1, 1), padding=(1, 1), bias=False)\n",
       "      (bn2): BatchNorm2d(128, eps=1e-05, momentum=0.1, affine=True, track_running_stats=True)\n",
       "      (conv3): Conv2d(128, 512, kernel_size=(1, 1), stride=(1, 1), bias=False)\n",
       "      (bn3): BatchNorm2d(512, eps=1e-05, momentum=0.1, affine=True, track_running_stats=True)\n",
       "      (relu): ReLU(inplace=True)\n",
       "    )\n",
       "    (2): Bottleneck(\n",
       "      (conv1): Conv2d(512, 128, kernel_size=(1, 1), stride=(1, 1), bias=False)\n",
       "      (bn1): BatchNorm2d(128, eps=1e-05, momentum=0.1, affine=True, track_running_stats=True)\n",
       "      (conv2): Conv2d(128, 128, kernel_size=(3, 3), stride=(1, 1), padding=(1, 1), bias=False)\n",
       "      (bn2): BatchNorm2d(128, eps=1e-05, momentum=0.1, affine=True, track_running_stats=True)\n",
       "      (conv3): Conv2d(128, 512, kernel_size=(1, 1), stride=(1, 1), bias=False)\n",
       "      (bn3): BatchNorm2d(512, eps=1e-05, momentum=0.1, affine=True, track_running_stats=True)\n",
       "      (relu): ReLU(inplace=True)\n",
       "    )\n",
       "    (3): Bottleneck(\n",
       "      (conv1): Conv2d(512, 128, kernel_size=(1, 1), stride=(1, 1), bias=False)\n",
       "      (bn1): BatchNorm2d(128, eps=1e-05, momentum=0.1, affine=True, track_running_stats=True)\n",
       "      (conv2): Conv2d(128, 128, kernel_size=(3, 3), stride=(1, 1), padding=(1, 1), bias=False)\n",
       "      (bn2): BatchNorm2d(128, eps=1e-05, momentum=0.1, affine=True, track_running_stats=True)\n",
       "      (conv3): Conv2d(128, 512, kernel_size=(1, 1), stride=(1, 1), bias=False)\n",
       "      (bn3): BatchNorm2d(512, eps=1e-05, momentum=0.1, affine=True, track_running_stats=True)\n",
       "      (relu): ReLU(inplace=True)\n",
       "    )\n",
       "  )\n",
       "  (layer3): Sequential(\n",
       "    (0): Bottleneck(\n",
       "      (conv1): Conv2d(512, 256, kernel_size=(1, 1), stride=(1, 1), bias=False)\n",
       "      (bn1): BatchNorm2d(256, eps=1e-05, momentum=0.1, affine=True, track_running_stats=True)\n",
       "      (conv2): Conv2d(256, 256, kernel_size=(3, 3), stride=(2, 2), padding=(1, 1), bias=False)\n",
       "      (bn2): BatchNorm2d(256, eps=1e-05, momentum=0.1, affine=True, track_running_stats=True)\n",
       "      (conv3): Conv2d(256, 1024, kernel_size=(1, 1), stride=(1, 1), bias=False)\n",
       "      (bn3): BatchNorm2d(1024, eps=1e-05, momentum=0.1, affine=True, track_running_stats=True)\n",
       "      (relu): ReLU(inplace=True)\n",
       "      (downsample): Sequential(\n",
       "        (0): Conv2d(512, 1024, kernel_size=(1, 1), stride=(2, 2), bias=False)\n",
       "        (1): BatchNorm2d(1024, eps=1e-05, momentum=0.1, affine=True, track_running_stats=True)\n",
       "      )\n",
       "    )\n",
       "    (1): Bottleneck(\n",
       "      (conv1): Conv2d(1024, 256, kernel_size=(1, 1), stride=(1, 1), bias=False)\n",
       "      (bn1): BatchNorm2d(256, eps=1e-05, momentum=0.1, affine=True, track_running_stats=True)\n",
       "      (conv2): Conv2d(256, 256, kernel_size=(3, 3), stride=(1, 1), padding=(1, 1), bias=False)\n",
       "      (bn2): BatchNorm2d(256, eps=1e-05, momentum=0.1, affine=True, track_running_stats=True)\n",
       "      (conv3): Conv2d(256, 1024, kernel_size=(1, 1), stride=(1, 1), bias=False)\n",
       "      (bn3): BatchNorm2d(1024, eps=1e-05, momentum=0.1, affine=True, track_running_stats=True)\n",
       "      (relu): ReLU(inplace=True)\n",
       "    )\n",
       "    (2): Bottleneck(\n",
       "      (conv1): Conv2d(1024, 256, kernel_size=(1, 1), stride=(1, 1), bias=False)\n",
       "      (bn1): BatchNorm2d(256, eps=1e-05, momentum=0.1, affine=True, track_running_stats=True)\n",
       "      (conv2): Conv2d(256, 256, kernel_size=(3, 3), stride=(1, 1), padding=(1, 1), bias=False)\n",
       "      (bn2): BatchNorm2d(256, eps=1e-05, momentum=0.1, affine=True, track_running_stats=True)\n",
       "      (conv3): Conv2d(256, 1024, kernel_size=(1, 1), stride=(1, 1), bias=False)\n",
       "      (bn3): BatchNorm2d(1024, eps=1e-05, momentum=0.1, affine=True, track_running_stats=True)\n",
       "      (relu): ReLU(inplace=True)\n",
       "    )\n",
       "    (3): Bottleneck(\n",
       "      (conv1): Conv2d(1024, 256, kernel_size=(1, 1), stride=(1, 1), bias=False)\n",
       "      (bn1): BatchNorm2d(256, eps=1e-05, momentum=0.1, affine=True, track_running_stats=True)\n",
       "      (conv2): Conv2d(256, 256, kernel_size=(3, 3), stride=(1, 1), padding=(1, 1), bias=False)\n",
       "      (bn2): BatchNorm2d(256, eps=1e-05, momentum=0.1, affine=True, track_running_stats=True)\n",
       "      (conv3): Conv2d(256, 1024, kernel_size=(1, 1), stride=(1, 1), bias=False)\n",
       "      (bn3): BatchNorm2d(1024, eps=1e-05, momentum=0.1, affine=True, track_running_stats=True)\n",
       "      (relu): ReLU(inplace=True)\n",
       "    )\n",
       "    (4): Bottleneck(\n",
       "      (conv1): Conv2d(1024, 256, kernel_size=(1, 1), stride=(1, 1), bias=False)\n",
       "      (bn1): BatchNorm2d(256, eps=1e-05, momentum=0.1, affine=True, track_running_stats=True)\n",
       "      (conv2): Conv2d(256, 256, kernel_size=(3, 3), stride=(1, 1), padding=(1, 1), bias=False)\n",
       "      (bn2): BatchNorm2d(256, eps=1e-05, momentum=0.1, affine=True, track_running_stats=True)\n",
       "      (conv3): Conv2d(256, 1024, kernel_size=(1, 1), stride=(1, 1), bias=False)\n",
       "      (bn3): BatchNorm2d(1024, eps=1e-05, momentum=0.1, affine=True, track_running_stats=True)\n",
       "      (relu): ReLU(inplace=True)\n",
       "    )\n",
       "    (5): Bottleneck(\n",
       "      (conv1): Conv2d(1024, 256, kernel_size=(1, 1), stride=(1, 1), bias=False)\n",
       "      (bn1): BatchNorm2d(256, eps=1e-05, momentum=0.1, affine=True, track_running_stats=True)\n",
       "      (conv2): Conv2d(256, 256, kernel_size=(3, 3), stride=(1, 1), padding=(1, 1), bias=False)\n",
       "      (bn2): BatchNorm2d(256, eps=1e-05, momentum=0.1, affine=True, track_running_stats=True)\n",
       "      (conv3): Conv2d(256, 1024, kernel_size=(1, 1), stride=(1, 1), bias=False)\n",
       "      (bn3): BatchNorm2d(1024, eps=1e-05, momentum=0.1, affine=True, track_running_stats=True)\n",
       "      (relu): ReLU(inplace=True)\n",
       "    )\n",
       "  )\n",
       "  (layer4): Sequential(\n",
       "    (0): Bottleneck(\n",
       "      (conv1): Conv2d(1024, 512, kernel_size=(1, 1), stride=(1, 1), bias=False)\n",
       "      (bn1): BatchNorm2d(512, eps=1e-05, momentum=0.1, affine=True, track_running_stats=True)\n",
       "      (conv2): Conv2d(512, 512, kernel_size=(3, 3), stride=(2, 2), padding=(1, 1), bias=False)\n",
       "      (bn2): BatchNorm2d(512, eps=1e-05, momentum=0.1, affine=True, track_running_stats=True)\n",
       "      (conv3): Conv2d(512, 2048, kernel_size=(1, 1), stride=(1, 1), bias=False)\n",
       "      (bn3): BatchNorm2d(2048, eps=1e-05, momentum=0.1, affine=True, track_running_stats=True)\n",
       "      (relu): ReLU(inplace=True)\n",
       "      (downsample): Sequential(\n",
       "        (0): Conv2d(1024, 2048, kernel_size=(1, 1), stride=(2, 2), bias=False)\n",
       "        (1): BatchNorm2d(2048, eps=1e-05, momentum=0.1, affine=True, track_running_stats=True)\n",
       "      )\n",
       "    )\n",
       "    (1): Bottleneck(\n",
       "      (conv1): Conv2d(2048, 512, kernel_size=(1, 1), stride=(1, 1), bias=False)\n",
       "      (bn1): BatchNorm2d(512, eps=1e-05, momentum=0.1, affine=True, track_running_stats=True)\n",
       "      (conv2): Conv2d(512, 512, kernel_size=(3, 3), stride=(1, 1), padding=(1, 1), bias=False)\n",
       "      (bn2): BatchNorm2d(512, eps=1e-05, momentum=0.1, affine=True, track_running_stats=True)\n",
       "      (conv3): Conv2d(512, 2048, kernel_size=(1, 1), stride=(1, 1), bias=False)\n",
       "      (bn3): BatchNorm2d(2048, eps=1e-05, momentum=0.1, affine=True, track_running_stats=True)\n",
       "      (relu): ReLU(inplace=True)\n",
       "    )\n",
       "    (2): Bottleneck(\n",
       "      (conv1): Conv2d(2048, 512, kernel_size=(1, 1), stride=(1, 1), bias=False)\n",
       "      (bn1): BatchNorm2d(512, eps=1e-05, momentum=0.1, affine=True, track_running_stats=True)\n",
       "      (conv2): Conv2d(512, 512, kernel_size=(3, 3), stride=(1, 1), padding=(1, 1), bias=False)\n",
       "      (bn2): BatchNorm2d(512, eps=1e-05, momentum=0.1, affine=True, track_running_stats=True)\n",
       "      (conv3): Conv2d(512, 2048, kernel_size=(1, 1), stride=(1, 1), bias=False)\n",
       "      (bn3): BatchNorm2d(2048, eps=1e-05, momentum=0.1, affine=True, track_running_stats=True)\n",
       "      (relu): ReLU(inplace=True)\n",
       "    )\n",
       "  )\n",
       "  (avgpool): AdaptiveAvgPool2d(output_size=(1, 1))\n",
       "  (fc): Linear(in_features=2048, out_features=10, bias=True)\n",
       ")"
      ]
     },
     "execution_count": 2,
     "metadata": {},
     "output_type": "execute_result"
    }
   ],
   "source": [
    "my_model = resnet50(pretrained=True)\n",
    "my_model.eval() "
   ]
  },
  {
   "cell_type": "code",
   "execution_count": 3,
   "id": "03c21ab3",
   "metadata": {},
   "outputs": [],
   "source": [
    "from torchvision import transforms, io\n",
    "import torchvision\n",
    "from PIL import Image\n",
    "import os"
   ]
  },
  {
   "cell_type": "markdown",
   "id": "30f921de",
   "metadata": {},
   "source": [
    "### Read one image"
   ]
  },
  {
   "cell_type": "code",
   "execution_count": 4,
   "id": "0192e4bd",
   "metadata": {},
   "outputs": [
    {
     "data": {
      "image/png": "[encoded data removed]",
      "text/plain": [
       "<PIL.PngImagePlugin.PngImageFile image mode=RGB size=32x32>"
      ]
     },
     "execution_count": 4,
     "metadata": {},
     "output_type": "execute_result"
    }
   ],
   "source": [
    "img = Image.open(\"cifar10_32/n50.png\")\n",
    "width, height = img.size\n",
    "img"
   ]
  },
  {
   "cell_type": "code",
   "execution_count": 5,
   "id": "39504f84",
   "metadata": {},
   "outputs": [
    {
     "name": "stderr",
     "output_type": "stream",
     "text": [
      "Clipping input data to the valid range for imshow with RGB data ([0..1] for floats or [0..255] for integers).\n"
     ]
    },
    {
     "data": {
      "text/plain": [
       "<matplotlib.image.AxesImage at 0x1f823ac3e88>"
      ]
     },
     "execution_count": 5,
     "metadata": {},
     "output_type": "execute_result"
    },
    {
     "data": {
      "image/png": "[encoded data removed]",
      "text/plain": [
       "<Figure size 640x480 with 1 Axes>"
      ]
     },
     "metadata": {},
     "output_type": "display_data"
    }
   ],
   "source": [
    "preprocess = transforms.Compose([\n",
    "    transforms.ToTensor(),\n",
    "    transforms.Normalize(mean = [0.4914, 0.4822, 0.4465], std = [0.2471, 0.2435, 0.2616])\n",
    "])\n",
    "\n",
    "input_tensor = preprocess(img)\n",
    "plt.imshow(input_tensor.permute(1, 2, 0)  )"
   ]
  },
  {
   "cell_type": "markdown",
   "id": "c011f5fc",
   "metadata": {},
   "source": [
    "### Read all images"
   ]
  },
  {
   "cell_type": "code",
   "execution_count": 6,
   "id": "4d873692",
   "metadata": {},
   "outputs": [],
   "source": [
    "images_png = [name for name in os.listdir(\"cifar10_32\") if os.path.splitext(name)[-1] == '.png']\n",
    "images_png = [int(v.split(\".\")[0][1:]) for v in images_png]\n",
    "images_png.sort()\n",
    "images_png = [\"n\"+str(v)+\".png\"for v in images_png]"
   ]
  },
  {
   "cell_type": "code",
   "execution_count": 7,
   "id": "cd31fd49",
   "metadata": {},
   "outputs": [],
   "source": [
    "n_images = len(images_png)\n",
    "test_images = torch.zeros(n_images, 3, width, height, dtype=torch.uint8)\n",
    "\n",
    "for i, image_png in enumerate(images_png):\n",
    "    test_images[i] = io.read_image(os.path.join(\"cifar10_32\", image_png))\n",
    "    \n",
    "#make sure to change type of tensor to float and normalize between 0 and 1\n",
    "x_test = test_images.float() / 255"
   ]
  },
  {
   "cell_type": "code",
   "execution_count": 8,
   "id": "403ba363",
   "metadata": {},
   "outputs": [
    {
     "name": "stderr",
     "output_type": "stream",
     "text": [
      "Clipping input data to the valid range for imshow with RGB data ([0..1] for floats or [0..255] for integers).\n"
     ]
    },
    {
     "data": {
      "text/plain": [
       "<matplotlib.image.AxesImage at 0x1f825c99a88>"
      ]
     },
     "execution_count": 8,
     "metadata": {},
     "output_type": "execute_result"
    },
    {
     "data": {
      "image/png": "[encoded data removed]",
      "text/plain": [
       "<Figure size 640x480 with 1 Axes>"
      ]
     },
     "metadata": {},
     "output_type": "display_data"
    }
   ],
   "source": [
    "preprocess = transforms.Compose([\n",
    "    transforms.Normalize(mean = [0.4914, 0.4822, 0.4465], std = [0.2471, 0.2435, 0.2616])\n",
    "])\n",
    "x_test = preprocess(x_test)\n",
    "plt.imshow(x_test[0,:,:,:].permute(1, 2, 0) )"
   ]
  },
  {
   "cell_type": "markdown",
   "id": "eb3d76af",
   "metadata": {},
   "source": [
    "### test prediciton of ghost network"
   ]
  },
  {
   "cell_type": "code",
   "execution_count": 9,
   "id": "223a9439",
   "metadata": {},
   "outputs": [],
   "source": [
    "## batch size predictions\n",
    "# batch_size = 2\n",
    "# n_iterations = int(n_images/batch_size)\n",
    "# with torch.no_grad():\n",
    "#     for i in range(n_iterations):\n",
    "#         y_test = torch.argmax(torch.softmax(my_model(x_test[i*batch_size:i*batch_size+batch_size,:,:,:]), dim=1),1)\n",
    "#         print(i,\" \",y_test)\n",
    "# print(torch.argmax(torch.softmax(my_model(x_test[i*batch_size+batch_size:,:,:,:]), dim=1),1))"
   ]
  },
  {
   "cell_type": "code",
   "execution_count": 10,
   "id": "2b45d7c8",
   "metadata": {},
   "outputs": [
    {
     "name": "stdout",
     "output_type": "stream",
     "text": [
      "***** tensor(1.0168)\n",
      "***** tensor(0.9981)\n",
      "***** tensor(0.9774)\n",
      "***** tensor(1.0012)\n",
      "***** tensor(0.9986)\n",
      "***** tensor(1.0026)\n",
      "***** tensor(0.9934)\n",
      "***** tensor(1.0046)\n",
      "***** tensor(1.0053)\n",
      "***** tensor(0.9982)\n",
      "***** tensor(0.9975)\n",
      "***** tensor(1.0011)\n",
      "***** tensor(0.9948)\n",
      "***** tensor(1.0039)\n",
      "***** tensor(0.9974)\n",
      "***** tensor(0.9993)\n",
      "tensor([3, 8, 8, 0, 6, 6, 1, 6, 3, 1, 0, 9, 5, 7, 9, 8, 5, 7, 8, 6, 7, 0, 4, 9,\n",
      "        5, 2, 4, 0, 9, 6, 6, 5, 4, 5, 9, 2, 4, 9, 9, 5, 4, 6, 5, 6, 0, 9, 3, 1,\n",
      "        7, 6, 9, 8, 3, 3, 8, 8, 7, 7, 7, 3, 7, 3, 6, 3, 6, 2, 1, 2, 3, 7, 2, 6,\n",
      "        8, 8, 0, 2, 9, 3, 5, 8, 8, 1, 1, 7, 2, 5, 2, 7, 8, 9, 0, 3, 8, 6, 4, 6,\n",
      "        6, 0, 0, 7, 4, 5, 6, 3, 1, 1, 3, 6, 8, 7, 4, 0, 6, 2, 1, 3, 0, 4, 3, 7,\n",
      "        8, 3, 1, 2, 8, 2, 8, 3, 3, 2, 4, 1, 8, 9, 1, 2, 9, 7, 2, 9, 6, 5, 6, 3,\n",
      "        8, 7, 6, 5, 5, 2, 8, 9, 6, 0, 0, 5, 2, 9, 3, 4, 2, 1, 3, 6, 8, 4, 8, 4,\n",
      "        5, 0, 9, 9, 9, 8, 9, 9, 3, 7, 3, 0, 0, 5, 2, 2, 3, 8, 6, 3, 4, 0, 5, 8,\n",
      "        0, 1, 7, 2, 8, 8, 7, 8, 5, 9, 8, 7, 1, 3, 0, 5, 7, 9, 7, 4, 5, 9, 8, 0,\n",
      "        7, 9, 8, 2, 7, 6, 9, 4, 3, 9, 0, 4, 3, 6, 5, 1, 5, 8, 8, 0, 4, 0, 5, 5,\n",
      "        1, 1, 8, 9, 0, 3, 1, 9, 2, 2, 5, 3, 9, 9, 4, 0, 3, 0, 8, 9, 8, 1, 5, 7,\n",
      "        0, 8, 2, 4, 7, 0, 2, 3, 6, 3, 8, 3, 0, 3, 4, 3, 9, 0, 6, 1, 9, 9, 1, 0,\n",
      "        7, 9, 1, 2, 6, 9, 3, 4, 6, 0, 0, 6, 6, 6, 3, 2, 6, 1, 8, 2, 1, 4, 8, 6,\n",
      "        0, 0, 4, 0, 7, 7, 5, 5, 3, 5, 2, 3, 4, 1, 7, 5, 4, 6, 1, 9, 3, 6, 6, 9,\n",
      "        3, 8, 0, 7, 2, 6, 2, 5, 8, 5, 4, 6, 8, 9, 9, 1, 0, 2, 2, 4, 3, 2, 8, 0,\n",
      "        9, 5, 8, 1, 9, 4, 1, 3, 8, 1, 4, 7, 9, 4, 2, 7, 0, 7, 8, 6, 6, 9, 0, 9,\n",
      "        5, 8, 7, 2, 2, 5, 1, 2, 6, 2, 9, 6, 2, 3, 0, 3, 9, 8, 7, 8, 8, 4, 0, 1,\n",
      "        8, 2, 7, 9, 3, 6, 1, 9, 0, 7, 3, 7, 4, 5, 8, 0, 2, 9, 6, 4, 0, 6, 2, 5,\n",
      "        3, 0, 3, 7, 2, 5, 3, 1, 1, 4, 9, 9, 5, 7, 5, 0, 2, 2, 2, 9, 7, 3, 9, 4,\n",
      "        3, 5, 5, 6, 5, 6, 1, 4, 3, 4, 4, 3, 7, 8, 5, 7, 8, 0, 5, 7, 6, 0, 5, 4,\n",
      "        8, 6, 8, 5, 5, 9, 9, 9, 4, 0, 1, 0, 8, 1, 1, 8, 0, 2, 2, 0])\n"
     ]
    }
   ],
   "source": [
    "# batch size predictions predict all\n",
    "with torch.no_grad():\n",
    "    y_test = torch.argmax(torch.softmax(my_model(x_test), dim=1),1)\n",
    "print(y_test)"
   ]
  },
  {
   "cell_type": "code",
   "execution_count": 11,
   "id": "5d9d7d99",
   "metadata": {},
   "outputs": [
    {
     "name": "stdout",
     "output_type": "stream",
     "text": [
      "***** tensor(1.0124)\n",
      "***** tensor(0.9990)\n",
      "***** tensor(1.0023)\n",
      "***** tensor(1.0081)\n",
      "***** tensor(1.0049)\n",
      "***** tensor(1.0033)\n",
      "***** tensor(0.9932)\n",
      "***** tensor(0.9975)\n",
      "***** tensor(0.9987)\n",
      "***** tensor(0.9976)\n",
      "***** tensor(1.0043)\n",
      "***** tensor(0.9981)\n",
      "***** tensor(0.9964)\n",
      "***** tensor(0.9926)\n",
      "***** tensor(1.0020)\n",
      "***** tensor(0.9995)\n",
      "tensor([3, 8, 8, 0, 6, 6, 1, 6, 3, 1, 0, 9, 5, 7, 9, 8, 5, 7, 8, 6, 7, 0, 4, 9,\n",
      "        5, 2, 4, 0, 9, 6, 6, 5, 4, 5, 9, 2, 4, 9, 9, 5, 4, 6, 5, 6, 0, 9, 3, 1,\n",
      "        7, 6, 9, 8, 3, 3, 8, 8, 7, 7, 7, 3, 7, 3, 6, 3, 6, 2, 1, 2, 3, 7, 2, 6,\n",
      "        8, 8, 0, 2, 9, 3, 5, 8, 8, 1, 1, 7, 2, 5, 2, 7, 8, 9, 0, 3, 8, 6, 4, 6,\n",
      "        6, 0, 0, 7, 4, 5, 6, 3, 1, 1, 3, 6, 8, 7, 4, 0, 6, 2, 1, 3, 0, 4, 3, 7,\n",
      "        8, 3, 1, 2, 8, 2, 8, 3, 3, 2, 4, 1, 8, 9, 1, 2, 9, 7, 2, 9, 6, 5, 6, 3,\n",
      "        8, 7, 6, 5, 5, 2, 8, 9, 6, 0, 0, 5, 2, 9, 3, 4, 2, 1, 3, 6, 8, 4, 8, 4,\n",
      "        5, 0, 9, 9, 9, 8, 9, 9, 3, 7, 3, 0, 0, 5, 2, 2, 3, 8, 6, 3, 4, 0, 5, 8,\n",
      "        0, 1, 7, 2, 8, 8, 7, 8, 5, 9, 8, 7, 1, 3, 0, 5, 7, 9, 7, 4, 5, 9, 8, 0,\n",
      "        7, 9, 8, 2, 7, 6, 9, 4, 3, 9, 0, 4, 3, 6, 5, 1, 5, 8, 8, 0, 4, 0, 5, 5,\n",
      "        1, 1, 8, 9, 0, 3, 1, 9, 2, 2, 5, 3, 9, 9, 4, 0, 3, 0, 8, 9, 8, 1, 5, 7,\n",
      "        0, 8, 2, 4, 7, 0, 2, 3, 6, 3, 8, 3, 0, 3, 4, 3, 9, 0, 6, 1, 9, 9, 1, 0,\n",
      "        7, 9, 1, 2, 6, 9, 3, 4, 6, 0, 0, 6, 6, 6, 3, 2, 6, 1, 8, 2, 1, 4, 8, 6,\n",
      "        0, 0, 4, 0, 7, 7, 5, 5, 3, 5, 2, 3, 4, 1, 7, 5, 4, 6, 1, 9, 3, 6, 6, 9,\n",
      "        3, 8, 0, 7, 2, 6, 2, 5, 8, 5, 4, 6, 8, 9, 9, 1, 0, 2, 2, 4, 3, 2, 8, 0,\n",
      "        9, 5, 8, 1, 9, 4, 1, 3, 8, 1, 4, 7, 9, 4, 2, 7, 0, 7, 8, 6, 6, 9, 0, 9,\n",
      "        5, 8, 7, 2, 2, 5, 1, 2, 6, 2, 9, 6, 2, 3, 0, 3, 9, 8, 7, 8, 8, 4, 0, 1,\n",
      "        8, 2, 7, 9, 3, 6, 1, 9, 0, 7, 3, 7, 4, 5, 8, 0, 2, 9, 6, 4, 0, 6, 2, 5,\n",
      "        3, 0, 3, 7, 2, 5, 3, 1, 1, 4, 9, 9, 5, 7, 5, 0, 2, 2, 2, 9, 7, 3, 9, 4,\n",
      "        3, 5, 5, 6, 5, 6, 1, 4, 3, 4, 4, 3, 7, 8, 5, 7, 8, 0, 5, 7, 6, 0, 5, 4,\n",
      "        8, 6, 8, 5, 5, 9, 9, 9, 4, 0, 1, 0, 8, 1, 1, 8, 0, 2, 2, 0])\n"
     ]
    }
   ],
   "source": [
    "with torch.no_grad():\n",
    "    y_test = torch.argmax(torch.softmax(my_model(x_test), dim=1),1)\n",
    "print(y_test)"
   ]
  },
  {
   "cell_type": "code",
   "execution_count": 12,
   "id": "5dd34a82",
   "metadata": {},
   "outputs": [
    {
     "name": "stdout",
     "output_type": "stream",
     "text": [
      "***** tensor(1.0022)\n",
      "***** tensor(1.0030)\n",
      "***** tensor(1.0161)\n",
      "***** tensor(0.9864)\n",
      "***** tensor(1.0096)\n",
      "***** tensor(0.9956)\n",
      "***** tensor(0.9932)\n",
      "***** tensor(0.9967)\n",
      "***** tensor(1.0043)\n",
      "***** tensor(0.9950)\n",
      "***** tensor(1.0006)\n",
      "***** tensor(1.0024)\n",
      "***** tensor(0.9996)\n",
      "***** tensor(0.9986)\n",
      "***** tensor(1.0020)\n",
      "***** tensor(0.9984)\n",
      "tensor([3, 8, 8, 0, 6, 6, 1, 6, 3, 1, 0, 9, 5, 7, 9, 8, 5, 7, 8, 6, 7, 0, 4, 9,\n",
      "        5, 2, 4, 0, 9, 6, 6, 5, 4, 5, 9, 2, 4, 9, 9, 5, 4, 6, 5, 6, 0, 9, 3, 1,\n",
      "        7, 6, 9, 8, 3, 3, 8, 8, 7, 7, 7, 3, 7, 3, 6, 3, 6, 2, 1, 2, 3, 7, 2, 6,\n",
      "        8, 8, 0, 2, 9, 3, 5, 8, 8, 1, 1, 7, 2, 5, 2, 7, 8, 9, 0, 3, 8, 6, 4, 6,\n",
      "        6, 0, 0, 7, 4, 5, 6, 3, 1, 1, 3, 6, 8, 7, 4, 0, 6, 2, 1, 3, 0, 4, 3, 7,\n",
      "        8, 3, 1, 2, 8, 2, 8, 3, 3, 2, 4, 1, 8, 9, 1, 2, 9, 7, 2, 9, 6, 5, 6, 3,\n",
      "        8, 7, 6, 5, 5, 2, 8, 9, 6, 0, 0, 5, 2, 9, 3, 4, 2, 1, 3, 6, 8, 4, 8, 4,\n",
      "        5, 0, 9, 9, 9, 8, 9, 9, 3, 7, 3, 0, 0, 5, 2, 2, 3, 8, 6, 3, 4, 0, 5, 8,\n",
      "        0, 1, 7, 2, 8, 8, 7, 8, 5, 9, 8, 7, 1, 3, 0, 5, 7, 9, 7, 4, 5, 9, 8, 0,\n",
      "        7, 9, 8, 2, 7, 6, 9, 4, 3, 9, 0, 4, 3, 6, 5, 1, 5, 8, 8, 0, 4, 0, 5, 5,\n",
      "        1, 1, 8, 9, 0, 3, 1, 9, 2, 2, 5, 3, 9, 9, 4, 0, 3, 0, 8, 9, 8, 1, 5, 7,\n",
      "        0, 8, 2, 4, 7, 0, 2, 3, 6, 3, 8, 3, 0, 3, 4, 3, 9, 0, 6, 1, 9, 9, 1, 0,\n",
      "        7, 9, 1, 2, 6, 9, 3, 4, 6, 0, 0, 6, 6, 6, 3, 2, 6, 1, 8, 2, 1, 4, 8, 6,\n",
      "        0, 0, 4, 0, 7, 7, 5, 5, 3, 5, 2, 3, 4, 1, 7, 5, 4, 6, 1, 9, 3, 6, 6, 9,\n",
      "        3, 8, 0, 7, 2, 6, 2, 5, 8, 5, 4, 6, 8, 9, 9, 1, 0, 2, 2, 4, 3, 2, 8, 0,\n",
      "        9, 5, 8, 1, 9, 4, 1, 3, 8, 1, 4, 7, 9, 4, 2, 7, 0, 7, 8, 6, 6, 9, 0, 9,\n",
      "        5, 8, 7, 2, 2, 5, 1, 2, 6, 2, 9, 6, 2, 3, 0, 3, 9, 8, 7, 8, 8, 4, 0, 1,\n",
      "        8, 2, 7, 9, 3, 6, 1, 9, 0, 7, 3, 7, 4, 5, 8, 0, 2, 9, 6, 4, 0, 6, 2, 5,\n",
      "        3, 0, 3, 7, 2, 5, 3, 1, 1, 4, 9, 9, 5, 7, 5, 0, 2, 2, 2, 9, 7, 3, 9, 4,\n",
      "        3, 5, 5, 6, 5, 6, 1, 4, 3, 4, 4, 3, 7, 8, 5, 7, 8, 0, 5, 7, 6, 0, 5, 4,\n",
      "        8, 6, 8, 5, 5, 9, 9, 9, 4, 0, 1, 0, 8, 1, 1, 8, 0, 2, 2, 0])\n"
     ]
    }
   ],
   "source": [
    "with torch.no_grad():\n",
    "    y_test = torch.argmax(torch.softmax(my_model(x_test), dim=1),1)\n",
    "print(y_test)"
   ]
  },
  {
   "cell_type": "code",
   "execution_count": 13,
   "id": "66546e22",
   "metadata": {},
   "outputs": [
    {
     "data": {
      "text/plain": [
       "tensor([3, 8, 8, 0, 6, 6, 1, 6, 3, 1, 0, 9, 5, 7, 9, 8, 5, 7, 8, 6, 7, 0, 4, 9,\n",
       "        5, 2, 4, 0, 9, 6, 6, 5, 4, 5, 9, 2, 4, 1, 9, 5, 4, 6, 5, 6, 0, 9, 3, 9,\n",
       "        7, 6, 9, 8, 0, 3, 8, 8, 7, 7, 4, 6, 7, 3, 6, 3, 6, 2, 1, 2, 3, 7, 2, 6,\n",
       "        8, 8, 0, 2, 9, 3, 3, 8, 8, 1, 1, 7, 2, 5, 2, 7, 8, 9, 0, 3, 8, 6, 4, 6,\n",
       "        6, 0, 0, 7, 4, 5, 6, 3, 1, 1, 3, 6, 8, 7, 4, 0, 6, 2, 1, 3, 0, 4, 2, 7,\n",
       "        8, 3, 1, 2, 8, 0, 8, 3, 5, 2, 4, 1, 8, 9, 1, 2, 9, 7, 2, 9, 6, 5, 6, 3,\n",
       "        8, 7, 6, 2, 5, 2, 8, 9, 6, 0, 0, 5, 2, 9, 5, 4, 2, 1, 6, 6, 8, 4, 8, 4,\n",
       "        5, 0, 9, 9, 9, 8, 9, 9, 3, 7, 5, 0, 0, 5, 2, 2, 3, 8, 6, 3, 4, 0, 5, 8,\n",
       "        0, 1, 7, 2, 8, 8, 7, 8, 5, 1, 8, 7, 1, 3, 0, 5, 7, 9, 7, 4, 5, 9, 8, 0,\n",
       "        7, 9, 8, 2, 7, 6, 9, 4, 3, 9, 6, 4, 7, 6, 5, 1, 5, 8, 8, 0, 4, 0, 5, 5,\n",
       "        1, 1, 8, 9, 0, 3, 1, 9, 2, 2, 5, 3, 9, 9, 4, 0, 3, 0, 0, 9, 8, 1, 5, 7,\n",
       "        0, 8, 2, 4, 7, 0, 2, 3, 6, 3, 8, 5, 0, 3, 4, 3, 9, 0, 6, 1, 0, 9, 1, 0,\n",
       "        7, 9, 1, 2, 6, 9, 3, 4, 6, 0, 0, 6, 6, 6, 3, 2, 6, 1, 8, 2, 1, 6, 8, 6,\n",
       "        8, 0, 4, 0, 7, 7, 5, 5, 3, 5, 2, 3, 4, 1, 7, 5, 4, 6, 1, 9, 3, 6, 6, 9,\n",
       "        3, 8, 0, 7, 2, 6, 2, 5, 8, 5, 4, 6, 8, 9, 9, 1, 0, 2, 2, 7, 3, 2, 8, 0,\n",
       "        9, 5, 8, 1, 9, 4, 1, 3, 8, 1, 4, 7, 9, 4, 2, 7, 0, 7, 0, 6, 6, 9, 0, 9,\n",
       "        2, 8, 7, 2, 2, 5, 1, 2, 6, 2, 9, 6, 2, 3, 0, 3, 9, 8, 7, 8, 8, 4, 0, 1,\n",
       "        8, 2, 7, 9, 3, 6, 1, 9, 0, 7, 3, 7, 4, 5, 0, 0, 2, 9, 3, 4, 0, 6, 2, 5,\n",
       "        3, 7, 3, 7, 2, 5, 3, 1, 1, 4, 9, 9, 5, 7, 5, 0, 2, 2, 2, 9, 7, 3, 9, 4,\n",
       "        3, 5, 4, 6, 5, 6, 1, 4, 3, 4, 4, 3, 7, 8, 3, 7, 8, 0, 5, 7, 6, 0, 5, 4,\n",
       "        8, 6, 8, 5, 5, 9, 9, 9, 5, 0, 1, 0, 8, 1, 1, 8, 0, 2, 2, 0])"
      ]
     },
     "execution_count": 13,
     "metadata": {},
     "output_type": "execute_result"
    }
   ],
   "source": [
    "dict_y_test = np.load(\"cifar10_image_to_label.npy\", allow_pickle = True)[()]\n",
    "y_test = torch.Tensor(list(dict_y_test.values()))\n",
    "y_test = y_test.type(torch.LongTensor)\n",
    "y_test"
   ]
  },
  {
   "cell_type": "markdown",
   "id": "b98b79d9",
   "metadata": {},
   "source": [
    "### Ghost networks with PGD"
   ]
  },
  {
   "cell_type": "code",
   "execution_count": 14,
   "id": "c776ebf2",
   "metadata": {},
   "outputs": [],
   "source": [
    "#!pip install git+https://github.com/RobustBench/robustbench.git\n",
    "import robustbench\n",
    "from robustbench.utils import load_model,clean_accuracy\n",
    "from robustbench.data import load_cifar10\n",
    "\n",
    "import torchattacks"
   ]
  },
  {
   "cell_type": "code",
   "execution_count": 15,
   "id": "64e7fab7",
   "metadata": {},
   "outputs": [
    {
     "name": "stdout",
     "output_type": "stream",
     "text": [
      "***** tensor(1.0113)\n",
      "***** tensor(1.0078)\n",
      "***** tensor(1.0074)\n",
      "***** tensor(1.0077)\n",
      "***** tensor(0.9961)\n",
      "***** tensor(1.0047)\n",
      "***** tensor(1.0036)\n",
      "***** tensor(0.9993)\n",
      "***** tensor(1.0005)\n",
      "***** tensor(0.9994)\n",
      "***** tensor(1.0015)\n",
      "***** tensor(1.0002)\n",
      "***** tensor(1.0017)\n",
      "***** tensor(1.0019)\n",
      "***** tensor(0.9975)\n",
      "***** tensor(1.0014)\n",
      "***** tensor(1.0067)\n",
      "***** tensor(0.9948)\n",
      "***** tensor(0.9972)\n",
      "***** tensor(1.0023)\n",
      "***** tensor(0.9943)\n",
      "***** tensor(0.9957)\n",
      "***** tensor(1.0029)\n",
      "***** tensor(1.0006)\n",
      "***** tensor(1.0015)\n",
      "***** tensor(0.9992)\n",
      "***** tensor(1.0044)\n",
      "***** tensor(0.9993)\n",
      "***** tensor(1.0037)\n",
      "***** tensor(1.0005)\n",
      "***** tensor(0.9991)\n",
      "***** tensor(1.0028)\n",
      "***** tensor(0.9945)\n",
      "***** tensor(0.9937)\n",
      "***** tensor(1.0151)\n",
      "***** tensor(0.9948)\n",
      "***** tensor(0.9998)\n",
      "***** tensor(1.0024)\n",
      "***** tensor(1.0080)\n",
      "***** tensor(0.9992)\n",
      "***** tensor(1.0036)\n",
      "***** tensor(1.0017)\n",
      "***** tensor(1.0039)\n",
      "***** tensor(1.0061)\n",
      "***** tensor(1.0004)\n",
      "***** tensor(0.9984)\n",
      "***** tensor(1.0007)\n",
      "***** tensor(1.0006)\n",
      "***** tensor(1.0053)\n",
      "***** tensor(1.0052)\n",
      "***** tensor(1.0112)\n",
      "***** tensor(0.9992)\n",
      "***** tensor(0.9969)\n",
      "***** tensor(0.9970)\n",
      "***** tensor(0.9999)\n",
      "***** tensor(0.9996)\n",
      "***** tensor(1.0001)\n",
      "***** tensor(0.9966)\n",
      "***** tensor(0.9967)\n",
      "***** tensor(1.0002)\n",
      "***** tensor(0.9970)\n",
      "***** tensor(1.0002)\n",
      "***** tensor(1.0028)\n",
      "***** tensor(0.9995)\n",
      "***** tensor(0.9838)\n",
      "***** tensor(0.9974)\n",
      "***** tensor(0.9757)\n",
      "***** tensor(1.0013)\n",
      "***** tensor(0.9984)\n",
      "***** tensor(0.9966)\n",
      "***** tensor(0.9966)\n",
      "***** tensor(0.9914)\n",
      "***** tensor(0.9993)\n",
      "***** tensor(1.0001)\n",
      "***** tensor(0.9935)\n",
      "***** tensor(1.0052)\n",
      "***** tensor(1.0012)\n",
      "***** tensor(0.9989)\n",
      "***** tensor(0.9932)\n",
      "***** tensor(0.9983)\n",
      "***** tensor(1.0039)\n",
      "***** tensor(0.9912)\n",
      "***** tensor(1.0001)\n",
      "***** tensor(1.0046)\n",
      "***** tensor(1.0121)\n",
      "***** tensor(0.9975)\n",
      "***** tensor(0.9946)\n",
      "***** tensor(1.0032)\n",
      "***** tensor(0.9998)\n",
      "***** tensor(0.9979)\n",
      "***** tensor(1.0041)\n",
      "***** tensor(1.0028)\n",
      "***** tensor(0.9972)\n",
      "***** tensor(0.9974)\n",
      "***** tensor(0.9997)\n",
      "***** tensor(0.9997)\n",
      "***** tensor(1.0072)\n",
      "***** tensor(1.0136)\n",
      "***** tensor(1.0006)\n",
      "***** tensor(0.9967)\n",
      "***** tensor(1.0053)\n",
      "***** tensor(0.9996)\n",
      "***** tensor(1.0037)\n",
      "***** tensor(1.0074)\n",
      "***** tensor(0.9950)\n",
      "***** tensor(1.0062)\n",
      "***** tensor(1.0017)\n",
      "***** tensor(1.0015)\n",
      "***** tensor(0.9967)\n",
      "***** tensor(1.0010)\n",
      "***** tensor(0.9974)\n",
      "***** tensor(0.9984)\n",
      "***** tensor(1.0067)\n",
      "***** tensor(1.0013)\n",
      "***** tensor(1.0016)\n",
      "***** tensor(0.9978)\n",
      "***** tensor(1.0074)\n",
      "***** tensor(0.9893)\n",
      "***** tensor(1.0084)\n",
      "***** tensor(0.9999)\n",
      "***** tensor(0.9987)\n",
      "***** tensor(0.9978)\n",
      "***** tensor(1.0080)\n",
      "***** tensor(0.9972)\n",
      "***** tensor(1.0003)\n",
      "***** tensor(1.0034)\n",
      "***** tensor(0.9990)\n",
      "***** tensor(1.0030)\n",
      "***** tensor(1.0065)\n",
      "***** tensor(1.0022)\n",
      "***** tensor(0.9970)\n",
      "***** tensor(1.0104)\n",
      "***** tensor(0.9932)\n",
      "***** tensor(0.9992)\n",
      "***** tensor(0.9920)\n",
      "***** tensor(0.9976)\n",
      "***** tensor(0.9958)\n",
      "***** tensor(1.0017)\n",
      "***** tensor(0.9978)\n",
      "***** tensor(0.9998)\n",
      "***** tensor(1.0067)\n",
      "***** tensor(1.0017)\n",
      "***** tensor(1.0001)\n",
      "***** tensor(0.9972)\n",
      "***** tensor(0.9846)\n",
      "***** tensor(0.9992)\n",
      "***** tensor(0.9897)\n",
      "***** tensor(0.9994)\n",
      "***** tensor(1.0093)\n",
      "***** tensor(1.0037)\n",
      "***** tensor(1.0069)\n",
      "***** tensor(0.9993)\n",
      "***** tensor(1.0078)\n",
      "***** tensor(1.0008)\n",
      "***** tensor(0.9958)\n",
      "***** tensor(0.9985)\n",
      "***** tensor(0.9985)\n",
      "***** tensor(0.9991)\n",
      "***** tensor(0.9960)\n",
      "***** tensor(1.0035)\n"
     ]
    }
   ],
   "source": [
    "attack = torchattacks.PGD(my_model, eps=8/255, alpha=1/255, steps=10, random_start=True)\n",
    "adv_images = attack(x_test, y_test)"
   ]
  },
  {
   "cell_type": "code",
   "execution_count": 16,
   "id": "be80de67",
   "metadata": {},
   "outputs": [
    {
     "name": "stdout",
     "output_type": "stream",
     "text": [
      "***** tensor(0.9898)\n",
      "***** tensor(1.0034)\n",
      "***** tensor(0.9894)\n",
      "***** tensor(1.0036)\n",
      "***** tensor(0.9962)\n",
      "***** tensor(0.9973)\n",
      "***** tensor(1.0000)\n",
      "***** tensor(0.9959)\n",
      "***** tensor(0.9980)\n",
      "***** tensor(0.9975)\n",
      "***** tensor(1.0050)\n",
      "***** tensor(1.0014)\n",
      "***** tensor(1.0061)\n",
      "***** tensor(0.9978)\n",
      "***** tensor(1.0000)\n",
      "***** tensor(1.0032)\n",
      "***** tensor(1.0044)\n",
      "***** tensor(0.9981)\n",
      "***** tensor(1.0026)\n",
      "***** tensor(0.9942)\n",
      "***** tensor(0.9997)\n",
      "***** tensor(0.9955)\n",
      "***** tensor(1.0035)\n",
      "***** tensor(0.9952)\n",
      "***** tensor(1.0037)\n",
      "***** tensor(1.0010)\n",
      "***** tensor(1.0060)\n",
      "***** tensor(0.9967)\n",
      "***** tensor(0.9945)\n",
      "***** tensor(0.9951)\n",
      "***** tensor(0.9957)\n",
      "***** tensor(1.0020)\n",
      "***** tensor(1.0015)\n",
      "***** tensor(0.9990)\n",
      "***** tensor(0.9940)\n",
      "***** tensor(0.9990)\n",
      "***** tensor(1.0046)\n",
      "***** tensor(1.0020)\n",
      "***** tensor(0.9897)\n",
      "***** tensor(1.0008)\n",
      "***** tensor(1.0024)\n",
      "***** tensor(1.0037)\n",
      "***** tensor(0.9973)\n",
      "***** tensor(0.9966)\n",
      "***** tensor(0.9930)\n",
      "***** tensor(1.0009)\n",
      "***** tensor(1.0016)\n",
      "***** tensor(0.9990)\n",
      "***** tensor(0.9975)\n",
      "***** tensor(0.9945)\n",
      "***** tensor(0.9850)\n",
      "***** tensor(1.0062)\n",
      "***** tensor(1.0127)\n",
      "***** tensor(1.0017)\n",
      "***** tensor(0.9952)\n",
      "***** tensor(0.9917)\n",
      "***** tensor(0.9978)\n",
      "***** tensor(1.0068)\n",
      "***** tensor(1.0033)\n",
      "***** tensor(1.0002)\n",
      "***** tensor(1.0033)\n",
      "***** tensor(0.9925)\n",
      "***** tensor(0.9989)\n",
      "***** tensor(0.9984)\n",
      "***** tensor(1.0137)\n",
      "***** tensor(1.0035)\n",
      "***** tensor(1.0025)\n",
      "***** tensor(0.9977)\n",
      "***** tensor(1.0096)\n",
      "***** tensor(1.0079)\n",
      "***** tensor(0.9939)\n",
      "***** tensor(0.9992)\n",
      "***** tensor(0.9959)\n",
      "***** tensor(0.9922)\n",
      "***** tensor(1.0045)\n",
      "***** tensor(1.0016)\n",
      "***** tensor(1.0009)\n",
      "***** tensor(1.0017)\n",
      "***** tensor(0.9991)\n",
      "***** tensor(0.9976)\n",
      "Robust Acc PGD: 22.60 %\n"
     ]
    }
   ],
   "source": [
    "acc = clean_accuracy(my_model, adv_images, y_test)\n",
    "print('Robust Acc PGD: %2.2f %%'%(acc*100))"
   ]
  },
  {
   "cell_type": "code",
   "execution_count": 19,
   "id": "05aaf36b",
   "metadata": {},
   "outputs": [],
   "source": [
    "ghost_results = [] "
   ]
  },
  {
   "cell_type": "code",
   "execution_count": 17,
   "id": "fa5ea0b2",
   "metadata": {},
   "outputs": [],
   "source": [
    "model_rank1 = load_model(model_name='Rebuffi2021Fixing_70_16_cutmix_extra', dataset='cifar10', threat_model='Linf')"
   ]
  },
  {
   "cell_type": "code",
   "execution_count": 18,
   "id": "b9044592",
   "metadata": {},
   "outputs": [
    {
     "name": "stdout",
     "output_type": "stream",
     "text": [
      "Robust Acc rank1: 77.80 %\n"
     ]
    }
   ],
   "source": [
    "acc = clean_accuracy(model_rank1, adv_images, y_test)\n",
    "print('Robust Acc rank1: %2.2f %%'%(acc*100))\n",
    "ghost_results.append(acc)"
   ]
  },
  {
   "cell_type": "code",
   "execution_count": 22,
   "id": "90c3d4a4",
   "metadata": {},
   "outputs": [
    {
     "data": {
      "text/plain": [
       "[0.778]"
      ]
     },
     "execution_count": 22,
     "metadata": {},
     "output_type": "execute_result"
    }
   ],
   "source": [
    "ghost_results"
   ]
  },
  {
   "cell_type": "code",
   "execution_count": 23,
   "id": "4d184055",
   "metadata": {},
   "outputs": [],
   "source": [
    "model_rank2 = load_model(model_name='Gowal2021Improving_70_16_ddpm_100m', dataset='cifar10', threat_model='Linf')"
   ]
  },
  {
   "cell_type": "code",
   "execution_count": 24,
   "id": "e1b231bb",
   "metadata": {},
   "outputs": [
    {
     "name": "stdout",
     "output_type": "stream",
     "text": [
      "Robust Acc rank2: 74.80 %\n"
     ]
    }
   ],
   "source": [
    "acc = clean_accuracy(model_rank2, adv_images, y_test)\n",
    "print('Robust Acc rank2: %2.2f %%'%(acc*100))\n",
    "ghost_results.append(acc)"
   ]
  },
  {
   "cell_type": "code",
   "execution_count": 25,
   "id": "df45f155",
   "metadata": {},
   "outputs": [],
   "source": [
    "model_rank3 = load_model(model_name='Gowal2020Uncovering_70_16_extra', dataset='cifar10', threat_model='Linf')"
   ]
  },
  {
   "cell_type": "code",
   "execution_count": 26,
   "id": "361a3bbb",
   "metadata": {},
   "outputs": [
    {
     "name": "stdout",
     "output_type": "stream",
     "text": [
      "Robust Acc rank3: 76.80 %\n"
     ]
    }
   ],
   "source": [
    "acc = clean_accuracy(model_rank3, adv_images, y_test)\n",
    "print('Robust Acc rank3: %2.2f %%'%(acc*100))\n",
    "ghost_results.append(acc)"
   ]
  },
  {
   "cell_type": "code",
   "execution_count": 27,
   "id": "27b8150c",
   "metadata": {},
   "outputs": [],
   "source": [
    "model_rank4 = load_model(model_name='Rebuffi2021Fixing_106_16_cutmix_ddpm', dataset='cifar10', threat_model='Linf')"
   ]
  },
  {
   "cell_type": "code",
   "execution_count": 28,
   "id": "8b1af42e",
   "metadata": {},
   "outputs": [
    {
     "name": "stdout",
     "output_type": "stream",
     "text": [
      "Robust Acc rank4: 73.40 %\n"
     ]
    }
   ],
   "source": [
    "acc = clean_accuracy(model_rank4, adv_images, y_test)\n",
    "print('Robust Acc rank4: %2.2f %%'%(acc*100))\n",
    "ghost_results.append(acc)"
   ]
  },
  {
   "cell_type": "code",
   "execution_count": 29,
   "id": "03621c8e",
   "metadata": {},
   "outputs": [],
   "source": [
    "model_rank5 = load_model(model_name='Rebuffi2021Fixing_70_16_cutmix_ddpm', dataset='cifar10', threat_model='Linf')"
   ]
  },
  {
   "cell_type": "code",
   "execution_count": 30,
   "id": "c232712c",
   "metadata": {},
   "outputs": [
    {
     "name": "stdout",
     "output_type": "stream",
     "text": [
      "Robust Acc rank5: 72.80 %\n"
     ]
    }
   ],
   "source": [
    "acc = clean_accuracy(model_rank5, adv_images, y_test)\n",
    "print('Robust Acc rank5: %2.2f %%'%(acc*100))\n",
    "ghost_results.append(acc)"
   ]
  },
  {
   "cell_type": "code",
   "execution_count": 31,
   "id": "1ef8d4d0",
   "metadata": {},
   "outputs": [],
   "source": [
    "model_vanilla = load_model(model_name='Standard', dataset='cifar10', threat_model='Linf')"
   ]
  },
  {
   "cell_type": "code",
   "execution_count": 32,
   "id": "cb4b8ab8",
   "metadata": {},
   "outputs": [
    {
     "name": "stdout",
     "output_type": "stream",
     "text": [
      "Robust Acc vanilla: 46.60 %\n"
     ]
    }
   ],
   "source": [
    "acc = clean_accuracy(model_vanilla, adv_images, y_test)\n",
    "print('Robust Acc vanilla: %2.2f %%'%(acc*100))\n",
    "ghost_results.append(acc)"
   ]
  },
  {
   "cell_type": "code",
   "execution_count": null,
   "id": "c49148d8",
   "metadata": {},
   "outputs": [],
   "source": []
  }
 ],
 "metadata": {
  "kernelspec": {
   "display_name": "venvghost",
   "language": "python",
   "name": "venvghost"
  },
  "language_info": {
   "codemirror_mode": {
    "name": "ipython",
    "version": 3
   },
   "file_extension": ".py",
   "mimetype": "text/x-python",
   "name": "python",
   "nbconvert_exporter": "python",
   "pygments_lexer": "ipython3",
   "version": "3.7.4"
  }
 },
 "nbformat": 4,
 "nbformat_minor": 5
}
