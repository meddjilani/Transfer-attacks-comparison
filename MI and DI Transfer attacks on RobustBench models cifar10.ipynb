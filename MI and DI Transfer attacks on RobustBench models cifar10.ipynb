{
 "cells": [
  {
   "cell_type": "code",
   "execution_count": 1,
   "id": "ff0d2dc3",
   "metadata": {},
   "outputs": [],
   "source": [
    "import pandas as pd\n",
    "import numpy as np\n",
    "import timeit"
   ]
  },
  {
   "cell_type": "code",
   "execution_count": 2,
   "id": "de0b99b2",
   "metadata": {},
   "outputs": [],
   "source": [
    "#!pip install git+https://github.com/RobustBench/robustbench.git\n",
    "import robustbench\n",
    "from robustbench.utils import load_model,clean_accuracy\n",
    "from robustbench.data import load_cifar10"
   ]
  },
  {
   "cell_type": "markdown",
   "id": "ed01d27b",
   "metadata": {},
   "source": [
    "# Load models and data"
   ]
  },
  {
   "cell_type": "code",
   "execution_count": 3,
   "id": "b863a4b9",
   "metadata": {},
   "outputs": [
    {
     "data": {
      "text/plain": [
       "'D:\\\\PFE black\\\\3.Robustbench and torchattacks'"
      ]
     },
     "execution_count": 3,
     "metadata": {},
     "output_type": "execute_result"
    }
   ],
   "source": [
    "import os\n",
    "#os.chdir('D:\\\\PFE black\\\\3.Robustbench and torchattacks')\n",
    "os.getcwd()"
   ]
  },
  {
   "cell_type": "code",
   "execution_count": 4,
   "id": "23660894",
   "metadata": {},
   "outputs": [
    {
     "name": "stdout",
     "output_type": "stream",
     "text": [
      "Files already downloaded and verified\n"
     ]
    }
   ],
   "source": [
    "x_test, y_test = load_cifar10(n_examples=30)\n",
    "\n",
    "from robustbench.utils import load_model\n",
    "model_carmon2019 = load_model(model_name='Carmon2019Unlabeled', threat_model='Linf')"
   ]
  },
  {
   "cell_type": "code",
   "execution_count": 5,
   "id": "c7a4422c",
   "metadata": {},
   "outputs": [],
   "source": [
    "model_1 = load_model(model_name='Rebuffi2021Fixing_70_16_cutmix_extra', threat_model='Linf')"
   ]
  },
  {
   "cell_type": "code",
   "execution_count": 6,
   "id": "308e1e99",
   "metadata": {},
   "outputs": [],
   "source": [
    "n_examples = y_test.shape[0]"
   ]
  },
  {
   "cell_type": "code",
   "execution_count": 7,
   "id": "967d9b1c",
   "metadata": {},
   "outputs": [],
   "source": [
    "#model_2 = load_model(model_name='Gowal2021Improving_70_16_ddpm_100m', threat_model='Linf')"
   ]
  },
  {
   "cell_type": "code",
   "execution_count": 8,
   "id": "a29fdbe8",
   "metadata": {},
   "outputs": [],
   "source": [
    "#model_3 = load_model(model_name='Gowal2020Uncovering_70_16_extra', threat_model='Linf')"
   ]
  },
  {
   "cell_type": "markdown",
   "id": "d4b94341",
   "metadata": {},
   "source": [
    "# torchattacks"
   ]
  },
  {
   "cell_type": "code",
   "execution_count": 9,
   "id": "504db0c5",
   "metadata": {},
   "outputs": [],
   "source": [
    "#!pip install torchattacks\n",
    "import torchattacks\n",
    "import torch"
   ]
  },
  {
   "cell_type": "code",
   "execution_count": 10,
   "id": "b184fdbc",
   "metadata": {},
   "outputs": [],
   "source": [
    "#initialize variables for comparison\n",
    "name_stats = []\n",
    "rob_acc_stats = []\n",
    "time_stats = []"
   ]
  },
  {
   "cell_type": "markdown",
   "id": "6f313f50",
   "metadata": {},
   "source": [
    "##### Clean accuracy for Carmon2019"
   ]
  },
  {
   "cell_type": "code",
   "execution_count": 11,
   "id": "851f0a00",
   "metadata": {},
   "outputs": [
    {
     "name": "stdout",
     "output_type": "stream",
     "text": [
      "Acc carmon2019: 93.33 %\n"
     ]
    }
   ],
   "source": [
    "acc = clean_accuracy(model_carmon2019, x_test, y_test)\n",
    "print('Acc carmon2019: %2.2f %%'%(acc*100))"
   ]
  },
  {
   "cell_type": "markdown",
   "id": "d854044d",
   "metadata": {},
   "source": [
    "##### Clean accuracy for model rank1"
   ]
  },
  {
   "cell_type": "code",
   "execution_count": 12,
   "id": "6ebcbb0f",
   "metadata": {},
   "outputs": [
    {
     "name": "stdout",
     "output_type": "stream",
     "text": [
      "Acc model_1: 96.67 %\n"
     ]
    }
   ],
   "source": [
    "acc = clean_accuracy(model_1, x_test, y_test)\n",
    "print('Acc model_1: %2.2f %%'%(acc*100))"
   ]
  },
  {
   "cell_type": "code",
   "execution_count": 13,
   "id": "1a18f2d0",
   "metadata": {},
   "outputs": [],
   "source": [
    "#choose only corrected classifed images"
   ]
  },
  {
   "cell_type": "markdown",
   "id": "5988d730",
   "metadata": {},
   "source": [
    "## Transfer attack PGD"
   ]
  },
  {
   "cell_type": "markdown",
   "id": "efede292",
   "metadata": {},
   "source": [
    "##### source: model rank1\n",
    "##### target: Carmon2019"
   ]
  },
  {
   "cell_type": "code",
   "execution_count": 14,
   "id": "348b2280",
   "metadata": {},
   "outputs": [],
   "source": [
    "attack = torchattacks.PGD(model_1, eps=8/255, alpha=1/255, steps=10, random_start=True)\n",
    "start_time = timeit.default_timer()\n",
    "adv_images_PGD = attack(x_test, y_test)\n",
    "end_time = timeit.default_timer()"
   ]
  },
  {
   "cell_type": "code",
   "execution_count": 15,
   "id": "a84a0708",
   "metadata": {},
   "outputs": [
    {
     "name": "stdout",
     "output_type": "stream",
     "text": [
      "Robust Acc PGD: 76.67 %\n"
     ]
    }
   ],
   "source": [
    "acc = clean_accuracy(model_carmon2019, adv_images_PGD, y_test)\n",
    "print('Robust Acc PGD: %2.2f %%'%(acc*100))"
   ]
  },
  {
   "cell_type": "markdown",
   "id": "e2e2b152",
   "metadata": {},
   "source": [
    "## Transfer attack MIFGSM vs DIFGSM"
   ]
  },
  {
   "cell_type": "markdown",
   "id": "5f8a2e79",
   "metadata": {},
   "source": [
    "##### source: model rank1\n",
    "##### target: carmon2019"
   ]
  },
  {
   "cell_type": "code",
   "execution_count": 16,
   "id": "2296eedb",
   "metadata": {},
   "outputs": [],
   "source": [
    "attack = torchattacks.MIFGSM(model_1, eps=8/255, steps=10, decay=1.0)\n",
    "start_time = timeit.default_timer()\n",
    "adv_images_MI = attack(x_test, y_test)\n",
    "end_time = timeit.default_timer()"
   ]
  },
  {
   "cell_type": "code",
   "execution_count": 17,
   "id": "945487a3",
   "metadata": {},
   "outputs": [
    {
     "name": "stdout",
     "output_type": "stream",
     "text": [
      "Robust Acc MI: 76.67 %\n"
     ]
    }
   ],
   "source": [
    "acc = clean_accuracy(model_carmon2019, adv_images_MI, y_test)\n",
    "print('Robust Acc MI: %2.2f %%'%(acc*100))"
   ]
  },
  {
   "cell_type": "code",
   "execution_count": 18,
   "id": "7d9b8b6e",
   "metadata": {},
   "outputs": [],
   "source": [
    "attack = torchattacks.DIFGSM(model_1, eps=8/255, alpha=2/255, steps=10, decay=0.0, resize_rate=0.9, diversity_prob=0.5, random_start=False)\n",
    "start_time = timeit.default_timer()\n",
    "adv_images_DI = attack(x_test, y_test)\n",
    "end_time = timeit.default_timer()"
   ]
  },
  {
   "cell_type": "code",
   "execution_count": 19,
   "id": "524df64e",
   "metadata": {},
   "outputs": [
    {
     "name": "stdout",
     "output_type": "stream",
     "text": [
      "Robust Acc DI: 73.33 %\n"
     ]
    }
   ],
   "source": [
    "acc = clean_accuracy(model_carmon2019, adv_images_DI, y_test)\n",
    "print('Robust Acc DI: %2.2f %%'%(acc*100))"
   ]
  },
  {
   "cell_type": "markdown",
   "id": "3435f572",
   "metadata": {},
   "source": [
    "##### source: carmon2019 \n",
    "##### target: model rank1"
   ]
  },
  {
   "cell_type": "code",
   "execution_count": 20,
   "id": "da53d2c7",
   "metadata": {},
   "outputs": [],
   "source": [
    "attack = torchattacks.MIFGSM(model_carmon2019, eps=8/255, steps=10, decay=1.0)\n",
    "start_time = timeit.default_timer()\n",
    "adv_images_MI = attack(x_test, y_test)\n",
    "end_time = timeit.default_timer()"
   ]
  },
  {
   "cell_type": "code",
   "execution_count": 21,
   "id": "3bdcc06f",
   "metadata": {},
   "outputs": [
    {
     "name": "stdout",
     "output_type": "stream",
     "text": [
      "Robust Acc MI: 83.33 %\n"
     ]
    }
   ],
   "source": [
    "acc = clean_accuracy(model_1, adv_images_MI, y_test)\n",
    "print('Robust Acc MI: %2.2f %%'%(acc*100))"
   ]
  },
  {
   "cell_type": "code",
   "execution_count": 22,
   "id": "cd9dc6a0",
   "metadata": {},
   "outputs": [],
   "source": [
    "attack = torchattacks.DIFGSM(model_carmon2019, eps=8/255, alpha=2/255, steps=10, decay=0.0, resize_rate=0.9, diversity_prob=0.5, random_start=False)\n",
    "start_time = timeit.default_timer()\n",
    "adv_images_DI = attack(x_test, y_test)\n",
    "end_time = timeit.default_timer()"
   ]
  },
  {
   "cell_type": "code",
   "execution_count": 23,
   "id": "1d61df2e",
   "metadata": {},
   "outputs": [
    {
     "name": "stdout",
     "output_type": "stream",
     "text": [
      "Robust Acc DI: 83.33 %\n"
     ]
    }
   ],
   "source": [
    "acc = clean_accuracy(model_1, adv_images_DI, y_test)\n",
    "print('Robust Acc DI: %2.2f %%'%(acc*100))"
   ]
  }
 ],
 "metadata": {
  "kernelspec": {
   "display_name": "Python 3 (ipykernel)",
   "language": "python",
   "name": "python3"
  },
  "language_info": {
   "codemirror_mode": {
    "name": "ipython",
    "version": 3
   },
   "file_extension": ".py",
   "mimetype": "text/x-python",
   "name": "python",
   "nbconvert_exporter": "python",
   "pygments_lexer": "ipython3",
   "version": "3.7.4"
  }
 },
 "nbformat": 4,
 "nbformat_minor": 5
}
